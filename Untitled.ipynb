{
 "cells": [
  {
   "cell_type": "markdown",
   "id": "f6ef1fc9",
   "metadata": {},
   "source": [
    "# Importing Important Libraries"
   ]
  },
  {
   "cell_type": "code",
   "execution_count": 1,
   "id": "992d2568",
   "metadata": {},
   "outputs": [],
   "source": [
    "import numpy as np\n",
    "import matplotlib.pyplot as plt\n",
    "%matplotlib inline\n",
    "import pandas as pd\n",
    "import seaborn as sns\n",
    "import warnings\n",
    "warnings.filterwarnings(\"ignore\")\n",
    "import itertools"
   ]
  },
  {
   "cell_type": "code",
   "execution_count": 2,
   "id": "b7df95b7",
   "metadata": {},
   "outputs": [],
   "source": [
    "#Readig csv files\n",
    "application_data = pd.read_csv(\"applications_base.csv\")\n",
    "previous_application = pd.read_csv(\"bureau.csv\")\n",
    "columns_description = pd.read_csv(\"columns_description.csv\")"
   ]
  },
  {
   "cell_type": "code",
   "execution_count": 3,
   "id": "2ab5320f",
   "metadata": {},
   "outputs": [
    {
     "data": {
      "text/plain": [
       "(307511, 122)"
      ]
     },
     "execution_count": 3,
     "metadata": {},
     "output_type": "execute_result"
    }
   ],
   "source": [
    "application_data.shape\n"
   ]
  },
  {
   "cell_type": "code",
   "execution_count": 4,
   "id": "8656a380",
   "metadata": {},
   "outputs": [
    {
     "data": {
      "text/plain": [
       "(1716428, 17)"
      ]
     },
     "execution_count": 4,
     "metadata": {},
     "output_type": "execute_result"
    }
   ],
   "source": [
    "previous_application.shape"
   ]
  },
  {
   "cell_type": "code",
   "execution_count": 5,
   "id": "2ad7447f",
   "metadata": {},
   "outputs": [
    {
     "data": {
      "text/plain": [
       "(160, 5)"
      ]
     },
     "execution_count": 5,
     "metadata": {},
     "output_type": "execute_result"
    }
   ],
   "source": [
    "columns_description.shape"
   ]
  },
  {
   "cell_type": "code",
   "execution_count": 6,
   "id": "7f46bd05",
   "metadata": {},
   "outputs": [
    {
     "data": {
      "text/plain": [
       "'application_data'"
      ]
     },
     "metadata": {},
     "output_type": "display_data"
    },
    {
     "data": {
      "text/html": [
       "<div>\n",
       "<style scoped>\n",
       "    .dataframe tbody tr th:only-of-type {\n",
       "        vertical-align: middle;\n",
       "    }\n",
       "\n",
       "    .dataframe tbody tr th {\n",
       "        vertical-align: top;\n",
       "    }\n",
       "\n",
       "    .dataframe thead th {\n",
       "        text-align: right;\n",
       "    }\n",
       "</style>\n",
       "<table border=\"1\" class=\"dataframe\">\n",
       "  <thead>\n",
       "    <tr style=\"text-align: right;\">\n",
       "      <th></th>\n",
       "      <th>SK_ID_CURR</th>\n",
       "      <th>TARGET</th>\n",
       "      <th>NAME_CONTRACT_TYPE</th>\n",
       "      <th>CODE_GENDER</th>\n",
       "      <th>FLAG_OWN_CAR</th>\n",
       "      <th>FLAG_OWN_REALTY</th>\n",
       "      <th>CNT_CHILDREN</th>\n",
       "      <th>AMT_INCOME_TOTAL</th>\n",
       "      <th>AMT_CREDIT</th>\n",
       "      <th>AMT_ANNUITY</th>\n",
       "      <th>AMT_GOODS_PRICE</th>\n",
       "      <th>NAME_TYPE_SUITE</th>\n",
       "      <th>NAME_INCOME_TYPE</th>\n",
       "      <th>NAME_EDUCATION_TYPE</th>\n",
       "      <th>NAME_FAMILY_STATUS</th>\n",
       "      <th>NAME_HOUSING_TYPE</th>\n",
       "      <th>REGION_POPULATION_RELATIVE</th>\n",
       "      <th>DAYS_BIRTH</th>\n",
       "      <th>DAYS_EMPLOYED</th>\n",
       "      <th>DAYS_REGISTRATION</th>\n",
       "      <th>DAYS_ID_PUBLISH</th>\n",
       "      <th>OWN_CAR_AGE</th>\n",
       "      <th>FLAG_MOBIL</th>\n",
       "      <th>FLAG_EMP_PHONE</th>\n",
       "      <th>FLAG_WORK_PHONE</th>\n",
       "      <th>FLAG_CONT_MOBILE</th>\n",
       "      <th>FLAG_PHONE</th>\n",
       "      <th>FLAG_EMAIL</th>\n",
       "      <th>OCCUPATION_TYPE</th>\n",
       "      <th>CNT_FAM_MEMBERS</th>\n",
       "      <th>REGION_RATING_CLIENT</th>\n",
       "      <th>REGION_RATING_CLIENT_W_CITY</th>\n",
       "      <th>WEEKDAY_APPR_PROCESS_START</th>\n",
       "      <th>HOUR_APPR_PROCESS_START</th>\n",
       "      <th>REG_REGION_NOT_LIVE_REGION</th>\n",
       "      <th>REG_REGION_NOT_WORK_REGION</th>\n",
       "      <th>LIVE_REGION_NOT_WORK_REGION</th>\n",
       "      <th>REG_CITY_NOT_LIVE_CITY</th>\n",
       "      <th>REG_CITY_NOT_WORK_CITY</th>\n",
       "      <th>LIVE_CITY_NOT_WORK_CITY</th>\n",
       "      <th>ORGANIZATION_TYPE</th>\n",
       "      <th>EXT_SOURCE_1</th>\n",
       "      <th>EXT_SOURCE_2</th>\n",
       "      <th>EXT_SOURCE_3</th>\n",
       "      <th>APARTMENTS_AVG</th>\n",
       "      <th>BASEMENTAREA_AVG</th>\n",
       "      <th>YEARS_BEGINEXPLUATATION_AVG</th>\n",
       "      <th>YEARS_BUILD_AVG</th>\n",
       "      <th>COMMONAREA_AVG</th>\n",
       "      <th>ELEVATORS_AVG</th>\n",
       "      <th>ENTRANCES_AVG</th>\n",
       "      <th>FLOORSMAX_AVG</th>\n",
       "      <th>FLOORSMIN_AVG</th>\n",
       "      <th>LANDAREA_AVG</th>\n",
       "      <th>LIVINGAPARTMENTS_AVG</th>\n",
       "      <th>LIVINGAREA_AVG</th>\n",
       "      <th>NONLIVINGAPARTMENTS_AVG</th>\n",
       "      <th>NONLIVINGAREA_AVG</th>\n",
       "      <th>APARTMENTS_MODE</th>\n",
       "      <th>BASEMENTAREA_MODE</th>\n",
       "      <th>YEARS_BEGINEXPLUATATION_MODE</th>\n",
       "      <th>YEARS_BUILD_MODE</th>\n",
       "      <th>COMMONAREA_MODE</th>\n",
       "      <th>ELEVATORS_MODE</th>\n",
       "      <th>ENTRANCES_MODE</th>\n",
       "      <th>FLOORSMAX_MODE</th>\n",
       "      <th>FLOORSMIN_MODE</th>\n",
       "      <th>LANDAREA_MODE</th>\n",
       "      <th>LIVINGAPARTMENTS_MODE</th>\n",
       "      <th>LIVINGAREA_MODE</th>\n",
       "      <th>NONLIVINGAPARTMENTS_MODE</th>\n",
       "      <th>NONLIVINGAREA_MODE</th>\n",
       "      <th>APARTMENTS_MEDI</th>\n",
       "      <th>BASEMENTAREA_MEDI</th>\n",
       "      <th>YEARS_BEGINEXPLUATATION_MEDI</th>\n",
       "      <th>YEARS_BUILD_MEDI</th>\n",
       "      <th>COMMONAREA_MEDI</th>\n",
       "      <th>ELEVATORS_MEDI</th>\n",
       "      <th>ENTRANCES_MEDI</th>\n",
       "      <th>FLOORSMAX_MEDI</th>\n",
       "      <th>FLOORSMIN_MEDI</th>\n",
       "      <th>LANDAREA_MEDI</th>\n",
       "      <th>LIVINGAPARTMENTS_MEDI</th>\n",
       "      <th>LIVINGAREA_MEDI</th>\n",
       "      <th>NONLIVINGAPARTMENTS_MEDI</th>\n",
       "      <th>NONLIVINGAREA_MEDI</th>\n",
       "      <th>FONDKAPREMONT_MODE</th>\n",
       "      <th>HOUSETYPE_MODE</th>\n",
       "      <th>TOTALAREA_MODE</th>\n",
       "      <th>WALLSMATERIAL_MODE</th>\n",
       "      <th>EMERGENCYSTATE_MODE</th>\n",
       "      <th>OBS_30_CNT_SOCIAL_CIRCLE</th>\n",
       "      <th>DEF_30_CNT_SOCIAL_CIRCLE</th>\n",
       "      <th>OBS_60_CNT_SOCIAL_CIRCLE</th>\n",
       "      <th>DEF_60_CNT_SOCIAL_CIRCLE</th>\n",
       "      <th>DAYS_LAST_PHONE_CHANGE</th>\n",
       "      <th>FLAG_DOCUMENT_2</th>\n",
       "      <th>FLAG_DOCUMENT_3</th>\n",
       "      <th>FLAG_DOCUMENT_4</th>\n",
       "      <th>FLAG_DOCUMENT_5</th>\n",
       "      <th>FLAG_DOCUMENT_6</th>\n",
       "      <th>FLAG_DOCUMENT_7</th>\n",
       "      <th>FLAG_DOCUMENT_8</th>\n",
       "      <th>FLAG_DOCUMENT_9</th>\n",
       "      <th>FLAG_DOCUMENT_10</th>\n",
       "      <th>FLAG_DOCUMENT_11</th>\n",
       "      <th>FLAG_DOCUMENT_12</th>\n",
       "      <th>FLAG_DOCUMENT_13</th>\n",
       "      <th>FLAG_DOCUMENT_14</th>\n",
       "      <th>FLAG_DOCUMENT_15</th>\n",
       "      <th>FLAG_DOCUMENT_16</th>\n",
       "      <th>FLAG_DOCUMENT_17</th>\n",
       "      <th>FLAG_DOCUMENT_18</th>\n",
       "      <th>FLAG_DOCUMENT_19</th>\n",
       "      <th>FLAG_DOCUMENT_20</th>\n",
       "      <th>FLAG_DOCUMENT_21</th>\n",
       "      <th>AMT_REQ_CREDIT_BUREAU_HOUR</th>\n",
       "      <th>AMT_REQ_CREDIT_BUREAU_DAY</th>\n",
       "      <th>AMT_REQ_CREDIT_BUREAU_WEEK</th>\n",
       "      <th>AMT_REQ_CREDIT_BUREAU_MON</th>\n",
       "      <th>AMT_REQ_CREDIT_BUREAU_QRT</th>\n",
       "      <th>AMT_REQ_CREDIT_BUREAU_YEAR</th>\n",
       "    </tr>\n",
       "  </thead>\n",
       "  <tbody>\n",
       "    <tr>\n",
       "      <th>0</th>\n",
       "      <td>100002</td>\n",
       "      <td>1</td>\n",
       "      <td>Cash loans</td>\n",
       "      <td>M</td>\n",
       "      <td>N</td>\n",
       "      <td>Y</td>\n",
       "      <td>0</td>\n",
       "      <td>202500.0</td>\n",
       "      <td>406597.5</td>\n",
       "      <td>24700.5</td>\n",
       "      <td>351000.0</td>\n",
       "      <td>Unaccompanied</td>\n",
       "      <td>Working</td>\n",
       "      <td>Secondary / secondary special</td>\n",
       "      <td>Single / not married</td>\n",
       "      <td>House / apartment</td>\n",
       "      <td>0.018801</td>\n",
       "      <td>-9461</td>\n",
       "      <td>-637</td>\n",
       "      <td>-3648.0</td>\n",
       "      <td>-2120</td>\n",
       "      <td>NaN</td>\n",
       "      <td>1</td>\n",
       "      <td>1</td>\n",
       "      <td>0</td>\n",
       "      <td>1</td>\n",
       "      <td>1</td>\n",
       "      <td>0</td>\n",
       "      <td>Laborers</td>\n",
       "      <td>1.0</td>\n",
       "      <td>2</td>\n",
       "      <td>2</td>\n",
       "      <td>WEDNESDAY</td>\n",
       "      <td>10</td>\n",
       "      <td>0</td>\n",
       "      <td>0</td>\n",
       "      <td>0</td>\n",
       "      <td>0</td>\n",
       "      <td>0</td>\n",
       "      <td>0</td>\n",
       "      <td>Business Entity Type 3</td>\n",
       "      <td>0.083037</td>\n",
       "      <td>0.262949</td>\n",
       "      <td>0.139376</td>\n",
       "      <td>0.0247</td>\n",
       "      <td>0.0369</td>\n",
       "      <td>0.9722</td>\n",
       "      <td>0.6192</td>\n",
       "      <td>0.0143</td>\n",
       "      <td>0.00</td>\n",
       "      <td>0.0690</td>\n",
       "      <td>0.0833</td>\n",
       "      <td>0.1250</td>\n",
       "      <td>0.0369</td>\n",
       "      <td>0.0202</td>\n",
       "      <td>0.0190</td>\n",
       "      <td>0.0000</td>\n",
       "      <td>0.0000</td>\n",
       "      <td>0.0252</td>\n",
       "      <td>0.0383</td>\n",
       "      <td>0.9722</td>\n",
       "      <td>0.6341</td>\n",
       "      <td>0.0144</td>\n",
       "      <td>0.0000</td>\n",
       "      <td>0.0690</td>\n",
       "      <td>0.0833</td>\n",
       "      <td>0.1250</td>\n",
       "      <td>0.0377</td>\n",
       "      <td>0.022</td>\n",
       "      <td>0.0198</td>\n",
       "      <td>0.0</td>\n",
       "      <td>0.0</td>\n",
       "      <td>0.0250</td>\n",
       "      <td>0.0369</td>\n",
       "      <td>0.9722</td>\n",
       "      <td>0.6243</td>\n",
       "      <td>0.0144</td>\n",
       "      <td>0.00</td>\n",
       "      <td>0.0690</td>\n",
       "      <td>0.0833</td>\n",
       "      <td>0.1250</td>\n",
       "      <td>0.0375</td>\n",
       "      <td>0.0205</td>\n",
       "      <td>0.0193</td>\n",
       "      <td>0.0000</td>\n",
       "      <td>0.00</td>\n",
       "      <td>reg oper account</td>\n",
       "      <td>block of flats</td>\n",
       "      <td>0.0149</td>\n",
       "      <td>Stone, brick</td>\n",
       "      <td>No</td>\n",
       "      <td>2.0</td>\n",
       "      <td>2.0</td>\n",
       "      <td>2.0</td>\n",
       "      <td>2.0</td>\n",
       "      <td>-1134.0</td>\n",
       "      <td>0</td>\n",
       "      <td>1</td>\n",
       "      <td>0</td>\n",
       "      <td>0</td>\n",
       "      <td>0</td>\n",
       "      <td>0</td>\n",
       "      <td>0</td>\n",
       "      <td>0</td>\n",
       "      <td>0</td>\n",
       "      <td>0</td>\n",
       "      <td>0</td>\n",
       "      <td>0</td>\n",
       "      <td>0</td>\n",
       "      <td>0</td>\n",
       "      <td>0</td>\n",
       "      <td>0</td>\n",
       "      <td>0</td>\n",
       "      <td>0</td>\n",
       "      <td>0</td>\n",
       "      <td>0</td>\n",
       "      <td>0.0</td>\n",
       "      <td>0.0</td>\n",
       "      <td>0.0</td>\n",
       "      <td>0.0</td>\n",
       "      <td>0.0</td>\n",
       "      <td>1.0</td>\n",
       "    </tr>\n",
       "    <tr>\n",
       "      <th>1</th>\n",
       "      <td>100003</td>\n",
       "      <td>0</td>\n",
       "      <td>Cash loans</td>\n",
       "      <td>F</td>\n",
       "      <td>N</td>\n",
       "      <td>N</td>\n",
       "      <td>0</td>\n",
       "      <td>270000.0</td>\n",
       "      <td>1293502.5</td>\n",
       "      <td>35698.5</td>\n",
       "      <td>1129500.0</td>\n",
       "      <td>Family</td>\n",
       "      <td>State servant</td>\n",
       "      <td>Higher education</td>\n",
       "      <td>Married</td>\n",
       "      <td>House / apartment</td>\n",
       "      <td>0.003541</td>\n",
       "      <td>-16765</td>\n",
       "      <td>-1188</td>\n",
       "      <td>-1186.0</td>\n",
       "      <td>-291</td>\n",
       "      <td>NaN</td>\n",
       "      <td>1</td>\n",
       "      <td>1</td>\n",
       "      <td>0</td>\n",
       "      <td>1</td>\n",
       "      <td>1</td>\n",
       "      <td>0</td>\n",
       "      <td>Core staff</td>\n",
       "      <td>2.0</td>\n",
       "      <td>1</td>\n",
       "      <td>1</td>\n",
       "      <td>MONDAY</td>\n",
       "      <td>11</td>\n",
       "      <td>0</td>\n",
       "      <td>0</td>\n",
       "      <td>0</td>\n",
       "      <td>0</td>\n",
       "      <td>0</td>\n",
       "      <td>0</td>\n",
       "      <td>School</td>\n",
       "      <td>0.311267</td>\n",
       "      <td>0.622246</td>\n",
       "      <td>NaN</td>\n",
       "      <td>0.0959</td>\n",
       "      <td>0.0529</td>\n",
       "      <td>0.9851</td>\n",
       "      <td>0.7960</td>\n",
       "      <td>0.0605</td>\n",
       "      <td>0.08</td>\n",
       "      <td>0.0345</td>\n",
       "      <td>0.2917</td>\n",
       "      <td>0.3333</td>\n",
       "      <td>0.0130</td>\n",
       "      <td>0.0773</td>\n",
       "      <td>0.0549</td>\n",
       "      <td>0.0039</td>\n",
       "      <td>0.0098</td>\n",
       "      <td>0.0924</td>\n",
       "      <td>0.0538</td>\n",
       "      <td>0.9851</td>\n",
       "      <td>0.8040</td>\n",
       "      <td>0.0497</td>\n",
       "      <td>0.0806</td>\n",
       "      <td>0.0345</td>\n",
       "      <td>0.2917</td>\n",
       "      <td>0.3333</td>\n",
       "      <td>0.0128</td>\n",
       "      <td>0.079</td>\n",
       "      <td>0.0554</td>\n",
       "      <td>0.0</td>\n",
       "      <td>0.0</td>\n",
       "      <td>0.0968</td>\n",
       "      <td>0.0529</td>\n",
       "      <td>0.9851</td>\n",
       "      <td>0.7987</td>\n",
       "      <td>0.0608</td>\n",
       "      <td>0.08</td>\n",
       "      <td>0.0345</td>\n",
       "      <td>0.2917</td>\n",
       "      <td>0.3333</td>\n",
       "      <td>0.0132</td>\n",
       "      <td>0.0787</td>\n",
       "      <td>0.0558</td>\n",
       "      <td>0.0039</td>\n",
       "      <td>0.01</td>\n",
       "      <td>reg oper account</td>\n",
       "      <td>block of flats</td>\n",
       "      <td>0.0714</td>\n",
       "      <td>Block</td>\n",
       "      <td>No</td>\n",
       "      <td>1.0</td>\n",
       "      <td>0.0</td>\n",
       "      <td>1.0</td>\n",
       "      <td>0.0</td>\n",
       "      <td>-828.0</td>\n",
       "      <td>0</td>\n",
       "      <td>1</td>\n",
       "      <td>0</td>\n",
       "      <td>0</td>\n",
       "      <td>0</td>\n",
       "      <td>0</td>\n",
       "      <td>0</td>\n",
       "      <td>0</td>\n",
       "      <td>0</td>\n",
       "      <td>0</td>\n",
       "      <td>0</td>\n",
       "      <td>0</td>\n",
       "      <td>0</td>\n",
       "      <td>0</td>\n",
       "      <td>0</td>\n",
       "      <td>0</td>\n",
       "      <td>0</td>\n",
       "      <td>0</td>\n",
       "      <td>0</td>\n",
       "      <td>0</td>\n",
       "      <td>0.0</td>\n",
       "      <td>0.0</td>\n",
       "      <td>0.0</td>\n",
       "      <td>0.0</td>\n",
       "      <td>0.0</td>\n",
       "      <td>0.0</td>\n",
       "    </tr>\n",
       "    <tr>\n",
       "      <th>2</th>\n",
       "      <td>100004</td>\n",
       "      <td>0</td>\n",
       "      <td>Revolving loans</td>\n",
       "      <td>M</td>\n",
       "      <td>Y</td>\n",
       "      <td>Y</td>\n",
       "      <td>0</td>\n",
       "      <td>67500.0</td>\n",
       "      <td>135000.0</td>\n",
       "      <td>6750.0</td>\n",
       "      <td>135000.0</td>\n",
       "      <td>Unaccompanied</td>\n",
       "      <td>Working</td>\n",
       "      <td>Secondary / secondary special</td>\n",
       "      <td>Single / not married</td>\n",
       "      <td>House / apartment</td>\n",
       "      <td>0.010032</td>\n",
       "      <td>-19046</td>\n",
       "      <td>-225</td>\n",
       "      <td>-4260.0</td>\n",
       "      <td>-2531</td>\n",
       "      <td>26.0</td>\n",
       "      <td>1</td>\n",
       "      <td>1</td>\n",
       "      <td>1</td>\n",
       "      <td>1</td>\n",
       "      <td>1</td>\n",
       "      <td>0</td>\n",
       "      <td>Laborers</td>\n",
       "      <td>1.0</td>\n",
       "      <td>2</td>\n",
       "      <td>2</td>\n",
       "      <td>MONDAY</td>\n",
       "      <td>9</td>\n",
       "      <td>0</td>\n",
       "      <td>0</td>\n",
       "      <td>0</td>\n",
       "      <td>0</td>\n",
       "      <td>0</td>\n",
       "      <td>0</td>\n",
       "      <td>Government</td>\n",
       "      <td>NaN</td>\n",
       "      <td>0.555912</td>\n",
       "      <td>0.729567</td>\n",
       "      <td>NaN</td>\n",
       "      <td>NaN</td>\n",
       "      <td>NaN</td>\n",
       "      <td>NaN</td>\n",
       "      <td>NaN</td>\n",
       "      <td>NaN</td>\n",
       "      <td>NaN</td>\n",
       "      <td>NaN</td>\n",
       "      <td>NaN</td>\n",
       "      <td>NaN</td>\n",
       "      <td>NaN</td>\n",
       "      <td>NaN</td>\n",
       "      <td>NaN</td>\n",
       "      <td>NaN</td>\n",
       "      <td>NaN</td>\n",
       "      <td>NaN</td>\n",
       "      <td>NaN</td>\n",
       "      <td>NaN</td>\n",
       "      <td>NaN</td>\n",
       "      <td>NaN</td>\n",
       "      <td>NaN</td>\n",
       "      <td>NaN</td>\n",
       "      <td>NaN</td>\n",
       "      <td>NaN</td>\n",
       "      <td>NaN</td>\n",
       "      <td>NaN</td>\n",
       "      <td>NaN</td>\n",
       "      <td>NaN</td>\n",
       "      <td>NaN</td>\n",
       "      <td>NaN</td>\n",
       "      <td>NaN</td>\n",
       "      <td>NaN</td>\n",
       "      <td>NaN</td>\n",
       "      <td>NaN</td>\n",
       "      <td>NaN</td>\n",
       "      <td>NaN</td>\n",
       "      <td>NaN</td>\n",
       "      <td>NaN</td>\n",
       "      <td>NaN</td>\n",
       "      <td>NaN</td>\n",
       "      <td>NaN</td>\n",
       "      <td>NaN</td>\n",
       "      <td>NaN</td>\n",
       "      <td>NaN</td>\n",
       "      <td>NaN</td>\n",
       "      <td>NaN</td>\n",
       "      <td>NaN</td>\n",
       "      <td>0.0</td>\n",
       "      <td>0.0</td>\n",
       "      <td>0.0</td>\n",
       "      <td>0.0</td>\n",
       "      <td>-815.0</td>\n",
       "      <td>0</td>\n",
       "      <td>0</td>\n",
       "      <td>0</td>\n",
       "      <td>0</td>\n",
       "      <td>0</td>\n",
       "      <td>0</td>\n",
       "      <td>0</td>\n",
       "      <td>0</td>\n",
       "      <td>0</td>\n",
       "      <td>0</td>\n",
       "      <td>0</td>\n",
       "      <td>0</td>\n",
       "      <td>0</td>\n",
       "      <td>0</td>\n",
       "      <td>0</td>\n",
       "      <td>0</td>\n",
       "      <td>0</td>\n",
       "      <td>0</td>\n",
       "      <td>0</td>\n",
       "      <td>0</td>\n",
       "      <td>0.0</td>\n",
       "      <td>0.0</td>\n",
       "      <td>0.0</td>\n",
       "      <td>0.0</td>\n",
       "      <td>0.0</td>\n",
       "      <td>0.0</td>\n",
       "    </tr>\n",
       "  </tbody>\n",
       "</table>\n",
       "</div>"
      ],
      "text/plain": [
       "   SK_ID_CURR  TARGET NAME_CONTRACT_TYPE CODE_GENDER FLAG_OWN_CAR  \\\n",
       "0      100002       1         Cash loans           M            N   \n",
       "1      100003       0         Cash loans           F            N   \n",
       "2      100004       0    Revolving loans           M            Y   \n",
       "\n",
       "  FLAG_OWN_REALTY  CNT_CHILDREN  AMT_INCOME_TOTAL  AMT_CREDIT  AMT_ANNUITY  \\\n",
       "0               Y             0          202500.0    406597.5      24700.5   \n",
       "1               N             0          270000.0   1293502.5      35698.5   \n",
       "2               Y             0           67500.0    135000.0       6750.0   \n",
       "\n",
       "   AMT_GOODS_PRICE NAME_TYPE_SUITE NAME_INCOME_TYPE  \\\n",
       "0         351000.0   Unaccompanied          Working   \n",
       "1        1129500.0          Family    State servant   \n",
       "2         135000.0   Unaccompanied          Working   \n",
       "\n",
       "             NAME_EDUCATION_TYPE    NAME_FAMILY_STATUS  NAME_HOUSING_TYPE  \\\n",
       "0  Secondary / secondary special  Single / not married  House / apartment   \n",
       "1               Higher education               Married  House / apartment   \n",
       "2  Secondary / secondary special  Single / not married  House / apartment   \n",
       "\n",
       "   REGION_POPULATION_RELATIVE  DAYS_BIRTH  DAYS_EMPLOYED  DAYS_REGISTRATION  \\\n",
       "0                    0.018801       -9461           -637            -3648.0   \n",
       "1                    0.003541      -16765          -1188            -1186.0   \n",
       "2                    0.010032      -19046           -225            -4260.0   \n",
       "\n",
       "   DAYS_ID_PUBLISH  OWN_CAR_AGE  FLAG_MOBIL  FLAG_EMP_PHONE  FLAG_WORK_PHONE  \\\n",
       "0            -2120          NaN           1               1                0   \n",
       "1             -291          NaN           1               1                0   \n",
       "2            -2531         26.0           1               1                1   \n",
       "\n",
       "   FLAG_CONT_MOBILE  FLAG_PHONE  FLAG_EMAIL OCCUPATION_TYPE  CNT_FAM_MEMBERS  \\\n",
       "0                 1           1           0        Laborers              1.0   \n",
       "1                 1           1           0      Core staff              2.0   \n",
       "2                 1           1           0        Laborers              1.0   \n",
       "\n",
       "   REGION_RATING_CLIENT  REGION_RATING_CLIENT_W_CITY  \\\n",
       "0                     2                            2   \n",
       "1                     1                            1   \n",
       "2                     2                            2   \n",
       "\n",
       "  WEEKDAY_APPR_PROCESS_START  HOUR_APPR_PROCESS_START  \\\n",
       "0                  WEDNESDAY                       10   \n",
       "1                     MONDAY                       11   \n",
       "2                     MONDAY                        9   \n",
       "\n",
       "   REG_REGION_NOT_LIVE_REGION  REG_REGION_NOT_WORK_REGION  \\\n",
       "0                           0                           0   \n",
       "1                           0                           0   \n",
       "2                           0                           0   \n",
       "\n",
       "   LIVE_REGION_NOT_WORK_REGION  REG_CITY_NOT_LIVE_CITY  \\\n",
       "0                            0                       0   \n",
       "1                            0                       0   \n",
       "2                            0                       0   \n",
       "\n",
       "   REG_CITY_NOT_WORK_CITY  LIVE_CITY_NOT_WORK_CITY       ORGANIZATION_TYPE  \\\n",
       "0                       0                        0  Business Entity Type 3   \n",
       "1                       0                        0                  School   \n",
       "2                       0                        0              Government   \n",
       "\n",
       "   EXT_SOURCE_1  EXT_SOURCE_2  EXT_SOURCE_3  APARTMENTS_AVG  BASEMENTAREA_AVG  \\\n",
       "0      0.083037      0.262949      0.139376          0.0247            0.0369   \n",
       "1      0.311267      0.622246           NaN          0.0959            0.0529   \n",
       "2           NaN      0.555912      0.729567             NaN               NaN   \n",
       "\n",
       "   YEARS_BEGINEXPLUATATION_AVG  YEARS_BUILD_AVG  COMMONAREA_AVG  \\\n",
       "0                       0.9722           0.6192          0.0143   \n",
       "1                       0.9851           0.7960          0.0605   \n",
       "2                          NaN              NaN             NaN   \n",
       "\n",
       "   ELEVATORS_AVG  ENTRANCES_AVG  FLOORSMAX_AVG  FLOORSMIN_AVG  LANDAREA_AVG  \\\n",
       "0           0.00         0.0690         0.0833         0.1250        0.0369   \n",
       "1           0.08         0.0345         0.2917         0.3333        0.0130   \n",
       "2            NaN            NaN            NaN            NaN           NaN   \n",
       "\n",
       "   LIVINGAPARTMENTS_AVG  LIVINGAREA_AVG  NONLIVINGAPARTMENTS_AVG  \\\n",
       "0                0.0202          0.0190                   0.0000   \n",
       "1                0.0773          0.0549                   0.0039   \n",
       "2                   NaN             NaN                      NaN   \n",
       "\n",
       "   NONLIVINGAREA_AVG  APARTMENTS_MODE  BASEMENTAREA_MODE  \\\n",
       "0             0.0000           0.0252             0.0383   \n",
       "1             0.0098           0.0924             0.0538   \n",
       "2                NaN              NaN                NaN   \n",
       "\n",
       "   YEARS_BEGINEXPLUATATION_MODE  YEARS_BUILD_MODE  COMMONAREA_MODE  \\\n",
       "0                        0.9722            0.6341           0.0144   \n",
       "1                        0.9851            0.8040           0.0497   \n",
       "2                           NaN               NaN              NaN   \n",
       "\n",
       "   ELEVATORS_MODE  ENTRANCES_MODE  FLOORSMAX_MODE  FLOORSMIN_MODE  \\\n",
       "0          0.0000          0.0690          0.0833          0.1250   \n",
       "1          0.0806          0.0345          0.2917          0.3333   \n",
       "2             NaN             NaN             NaN             NaN   \n",
       "\n",
       "   LANDAREA_MODE  LIVINGAPARTMENTS_MODE  LIVINGAREA_MODE  \\\n",
       "0         0.0377                  0.022           0.0198   \n",
       "1         0.0128                  0.079           0.0554   \n",
       "2            NaN                    NaN              NaN   \n",
       "\n",
       "   NONLIVINGAPARTMENTS_MODE  NONLIVINGAREA_MODE  APARTMENTS_MEDI  \\\n",
       "0                       0.0                 0.0           0.0250   \n",
       "1                       0.0                 0.0           0.0968   \n",
       "2                       NaN                 NaN              NaN   \n",
       "\n",
       "   BASEMENTAREA_MEDI  YEARS_BEGINEXPLUATATION_MEDI  YEARS_BUILD_MEDI  \\\n",
       "0             0.0369                        0.9722            0.6243   \n",
       "1             0.0529                        0.9851            0.7987   \n",
       "2                NaN                           NaN               NaN   \n",
       "\n",
       "   COMMONAREA_MEDI  ELEVATORS_MEDI  ENTRANCES_MEDI  FLOORSMAX_MEDI  \\\n",
       "0           0.0144            0.00          0.0690          0.0833   \n",
       "1           0.0608            0.08          0.0345          0.2917   \n",
       "2              NaN             NaN             NaN             NaN   \n",
       "\n",
       "   FLOORSMIN_MEDI  LANDAREA_MEDI  LIVINGAPARTMENTS_MEDI  LIVINGAREA_MEDI  \\\n",
       "0          0.1250         0.0375                 0.0205           0.0193   \n",
       "1          0.3333         0.0132                 0.0787           0.0558   \n",
       "2             NaN            NaN                    NaN              NaN   \n",
       "\n",
       "   NONLIVINGAPARTMENTS_MEDI  NONLIVINGAREA_MEDI FONDKAPREMONT_MODE  \\\n",
       "0                    0.0000                0.00   reg oper account   \n",
       "1                    0.0039                0.01   reg oper account   \n",
       "2                       NaN                 NaN                NaN   \n",
       "\n",
       "   HOUSETYPE_MODE  TOTALAREA_MODE WALLSMATERIAL_MODE EMERGENCYSTATE_MODE  \\\n",
       "0  block of flats          0.0149       Stone, brick                  No   \n",
       "1  block of flats          0.0714              Block                  No   \n",
       "2             NaN             NaN                NaN                 NaN   \n",
       "\n",
       "   OBS_30_CNT_SOCIAL_CIRCLE  DEF_30_CNT_SOCIAL_CIRCLE  \\\n",
       "0                       2.0                       2.0   \n",
       "1                       1.0                       0.0   \n",
       "2                       0.0                       0.0   \n",
       "\n",
       "   OBS_60_CNT_SOCIAL_CIRCLE  DEF_60_CNT_SOCIAL_CIRCLE  DAYS_LAST_PHONE_CHANGE  \\\n",
       "0                       2.0                       2.0                 -1134.0   \n",
       "1                       1.0                       0.0                  -828.0   \n",
       "2                       0.0                       0.0                  -815.0   \n",
       "\n",
       "   FLAG_DOCUMENT_2  FLAG_DOCUMENT_3  FLAG_DOCUMENT_4  FLAG_DOCUMENT_5  \\\n",
       "0                0                1                0                0   \n",
       "1                0                1                0                0   \n",
       "2                0                0                0                0   \n",
       "\n",
       "   FLAG_DOCUMENT_6  FLAG_DOCUMENT_7  FLAG_DOCUMENT_8  FLAG_DOCUMENT_9  \\\n",
       "0                0                0                0                0   \n",
       "1                0                0                0                0   \n",
       "2                0                0                0                0   \n",
       "\n",
       "   FLAG_DOCUMENT_10  FLAG_DOCUMENT_11  FLAG_DOCUMENT_12  FLAG_DOCUMENT_13  \\\n",
       "0                 0                 0                 0                 0   \n",
       "1                 0                 0                 0                 0   \n",
       "2                 0                 0                 0                 0   \n",
       "\n",
       "   FLAG_DOCUMENT_14  FLAG_DOCUMENT_15  FLAG_DOCUMENT_16  FLAG_DOCUMENT_17  \\\n",
       "0                 0                 0                 0                 0   \n",
       "1                 0                 0                 0                 0   \n",
       "2                 0                 0                 0                 0   \n",
       "\n",
       "   FLAG_DOCUMENT_18  FLAG_DOCUMENT_19  FLAG_DOCUMENT_20  FLAG_DOCUMENT_21  \\\n",
       "0                 0                 0                 0                 0   \n",
       "1                 0                 0                 0                 0   \n",
       "2                 0                 0                 0                 0   \n",
       "\n",
       "   AMT_REQ_CREDIT_BUREAU_HOUR  AMT_REQ_CREDIT_BUREAU_DAY  \\\n",
       "0                         0.0                        0.0   \n",
       "1                         0.0                        0.0   \n",
       "2                         0.0                        0.0   \n",
       "\n",
       "   AMT_REQ_CREDIT_BUREAU_WEEK  AMT_REQ_CREDIT_BUREAU_MON  \\\n",
       "0                         0.0                        0.0   \n",
       "1                         0.0                        0.0   \n",
       "2                         0.0                        0.0   \n",
       "\n",
       "   AMT_REQ_CREDIT_BUREAU_QRT  AMT_REQ_CREDIT_BUREAU_YEAR  \n",
       "0                        0.0                         1.0  \n",
       "1                        0.0                         0.0  \n",
       "2                        0.0                         0.0  "
      ]
     },
     "metadata": {},
     "output_type": "display_data"
    }
   ],
   "source": [
    "pd.set_option(\"display.max_rows\", None, \"display.max_columns\", None)\n",
    "display(\"application_data\")\n",
    "display(application_data.head(3))"
   ]
  },
  {
   "cell_type": "code",
   "execution_count": 7,
   "id": "0df369fd",
   "metadata": {},
   "outputs": [
    {
     "data": {
      "text/plain": [
       "'previous_application '"
      ]
     },
     "metadata": {},
     "output_type": "display_data"
    },
    {
     "data": {
      "text/html": [
       "<div>\n",
       "<style scoped>\n",
       "    .dataframe tbody tr th:only-of-type {\n",
       "        vertical-align: middle;\n",
       "    }\n",
       "\n",
       "    .dataframe tbody tr th {\n",
       "        vertical-align: top;\n",
       "    }\n",
       "\n",
       "    .dataframe thead th {\n",
       "        text-align: right;\n",
       "    }\n",
       "</style>\n",
       "<table border=\"1\" class=\"dataframe\">\n",
       "  <thead>\n",
       "    <tr style=\"text-align: right;\">\n",
       "      <th></th>\n",
       "      <th>SK_ID_CURR</th>\n",
       "      <th>SK_ID_BUREAU</th>\n",
       "      <th>CREDIT_ACTIVE</th>\n",
       "      <th>CREDIT_CURRENCY</th>\n",
       "      <th>DAYS_CREDIT</th>\n",
       "      <th>CREDIT_DAY_OVERDUE</th>\n",
       "      <th>DAYS_CREDIT_ENDDATE</th>\n",
       "      <th>DAYS_ENDDATE_FACT</th>\n",
       "      <th>AMT_CREDIT_MAX_OVERDUE</th>\n",
       "      <th>CNT_CREDIT_PROLONG</th>\n",
       "      <th>AMT_CREDIT_SUM</th>\n",
       "      <th>AMT_CREDIT_SUM_DEBT</th>\n",
       "      <th>AMT_CREDIT_SUM_LIMIT</th>\n",
       "      <th>AMT_CREDIT_SUM_OVERDUE</th>\n",
       "      <th>CREDIT_TYPE</th>\n",
       "      <th>DAYS_CREDIT_UPDATE</th>\n",
       "      <th>AMT_ANNUITY</th>\n",
       "    </tr>\n",
       "  </thead>\n",
       "  <tbody>\n",
       "    <tr>\n",
       "      <th>0</th>\n",
       "      <td>215354</td>\n",
       "      <td>5714462</td>\n",
       "      <td>Closed</td>\n",
       "      <td>currency 1</td>\n",
       "      <td>-497</td>\n",
       "      <td>0</td>\n",
       "      <td>-153.0</td>\n",
       "      <td>-153.0</td>\n",
       "      <td>NaN</td>\n",
       "      <td>0</td>\n",
       "      <td>91323.0</td>\n",
       "      <td>0.0</td>\n",
       "      <td>NaN</td>\n",
       "      <td>0.0</td>\n",
       "      <td>Consumer credit</td>\n",
       "      <td>-131</td>\n",
       "      <td>NaN</td>\n",
       "    </tr>\n",
       "    <tr>\n",
       "      <th>1</th>\n",
       "      <td>215354</td>\n",
       "      <td>5714463</td>\n",
       "      <td>Active</td>\n",
       "      <td>currency 1</td>\n",
       "      <td>-208</td>\n",
       "      <td>0</td>\n",
       "      <td>1075.0</td>\n",
       "      <td>NaN</td>\n",
       "      <td>NaN</td>\n",
       "      <td>0</td>\n",
       "      <td>225000.0</td>\n",
       "      <td>171342.0</td>\n",
       "      <td>NaN</td>\n",
       "      <td>0.0</td>\n",
       "      <td>Credit card</td>\n",
       "      <td>-20</td>\n",
       "      <td>NaN</td>\n",
       "    </tr>\n",
       "    <tr>\n",
       "      <th>2</th>\n",
       "      <td>215354</td>\n",
       "      <td>5714464</td>\n",
       "      <td>Active</td>\n",
       "      <td>currency 1</td>\n",
       "      <td>-203</td>\n",
       "      <td>0</td>\n",
       "      <td>528.0</td>\n",
       "      <td>NaN</td>\n",
       "      <td>NaN</td>\n",
       "      <td>0</td>\n",
       "      <td>464323.5</td>\n",
       "      <td>NaN</td>\n",
       "      <td>NaN</td>\n",
       "      <td>0.0</td>\n",
       "      <td>Consumer credit</td>\n",
       "      <td>-16</td>\n",
       "      <td>NaN</td>\n",
       "    </tr>\n",
       "  </tbody>\n",
       "</table>\n",
       "</div>"
      ],
      "text/plain": [
       "   SK_ID_CURR  SK_ID_BUREAU CREDIT_ACTIVE CREDIT_CURRENCY  DAYS_CREDIT  \\\n",
       "0      215354       5714462        Closed      currency 1         -497   \n",
       "1      215354       5714463        Active      currency 1         -208   \n",
       "2      215354       5714464        Active      currency 1         -203   \n",
       "\n",
       "   CREDIT_DAY_OVERDUE  DAYS_CREDIT_ENDDATE  DAYS_ENDDATE_FACT  \\\n",
       "0                   0               -153.0             -153.0   \n",
       "1                   0               1075.0                NaN   \n",
       "2                   0                528.0                NaN   \n",
       "\n",
       "   AMT_CREDIT_MAX_OVERDUE  CNT_CREDIT_PROLONG  AMT_CREDIT_SUM  \\\n",
       "0                     NaN                   0         91323.0   \n",
       "1                     NaN                   0        225000.0   \n",
       "2                     NaN                   0        464323.5   \n",
       "\n",
       "   AMT_CREDIT_SUM_DEBT  AMT_CREDIT_SUM_LIMIT  AMT_CREDIT_SUM_OVERDUE  \\\n",
       "0                  0.0                   NaN                     0.0   \n",
       "1             171342.0                   NaN                     0.0   \n",
       "2                  NaN                   NaN                     0.0   \n",
       "\n",
       "       CREDIT_TYPE  DAYS_CREDIT_UPDATE  AMT_ANNUITY  \n",
       "0  Consumer credit                -131          NaN  \n",
       "1      Credit card                 -20          NaN  \n",
       "2  Consumer credit                 -16          NaN  "
      ]
     },
     "metadata": {},
     "output_type": "display_data"
    }
   ],
   "source": [
    "display(\"previous_application \")\n",
    "display(previous_application.head(3))"
   ]
  },
  {
   "cell_type": "code",
   "execution_count": 8,
   "id": "a480a642",
   "metadata": {},
   "outputs": [
    {
     "data": {
      "image/png": "[encoded data removed]",
      "text/plain": [
       "<Figure size 1296x432 with 1 Axes>"
      ]
     },
     "metadata": {},
     "output_type": "display_data"
    }
   ],
   "source": [
    "fig = plt.figure(figsize=(18,6))\n",
    "miss_previous_application = pd.DataFrame((previous_application.isnull().sum())*100/previous_application.shape[0]).reset_index()\n",
    "miss_previous_application[\"type\"] = \"previous_application\"\n",
    "ax = sns.pointplot(\"index\",0,data=miss_previous_application,hue=\"type\")\n",
    "plt.xticks(rotation =90,fontsize =7)\n",
    "plt.title(\"Percentage of Missing values in previous_application\")\n",
    "plt.ylabel(\"PERCENTAGE\")\n",
    "plt.xlabel(\"COLUMNS\")\n",
    "ax.set_facecolor(\"k\")\n",
    "fig.set_facecolor(\"lightgrey\")"
   ]
  },
  {
   "cell_type": "code",
   "execution_count": 9,
   "id": "5ca52bd1",
   "metadata": {},
   "outputs": [
    {
     "data": {
      "text/plain": [
       "SK_ID_CURR                 0.00\n",
       "SK_ID_BUREAU               0.00\n",
       "CREDIT_ACTIVE              0.00\n",
       "CREDIT_CURRENCY            0.00\n",
       "DAYS_CREDIT                0.00\n",
       "CREDIT_DAY_OVERDUE         0.00\n",
       "DAYS_CREDIT_ENDDATE        6.15\n",
       "DAYS_ENDDATE_FACT         36.92\n",
       "AMT_CREDIT_MAX_OVERDUE    65.51\n",
       "CNT_CREDIT_PROLONG         0.00\n",
       "AMT_CREDIT_SUM             0.00\n",
       "AMT_CREDIT_SUM_DEBT       15.01\n",
       "AMT_CREDIT_SUM_LIMIT      34.48\n",
       "AMT_CREDIT_SUM_OVERDUE     0.00\n",
       "CREDIT_TYPE                0.00\n",
       "DAYS_CREDIT_UPDATE         0.00\n",
       "AMT_ANNUITY               71.47\n",
       "dtype: float64"
      ]
     },
     "execution_count": 9,
     "metadata": {},
     "output_type": "execute_result"
    }
   ],
   "source": [
    "round(100*(previous_application.isnull().sum()/len(previous_application.index)),2)"
   ]
  },
  {
   "cell_type": "code",
   "execution_count": 10,
   "id": "cf315f56",
   "metadata": {},
   "outputs": [
    {
     "ename": "KeyError",
     "evalue": "\"['AMT_DOWN_PAYMENT', 'RATE_DOWN_PAYMENT', 'RATE_INTEREST_PRIMARY', 'RATE_INTEREST_PRIVILEGED'] not found in axis\"",
     "output_type": "error",
     "traceback": [
      "\u001b[1;31m---------------------------------------------------------------------------\u001b[0m",
      "\u001b[1;31mKeyError\u001b[0m                                  Traceback (most recent call last)",
      "Input \u001b[1;32mIn [10]\u001b[0m, in \u001b[0;36m<cell line: 1>\u001b[1;34m()\u001b[0m\n\u001b[1;32m----> 1\u001b[0m previous_application\u001b[38;5;241m=\u001b[39m\u001b[43mprevious_application\u001b[49m\u001b[38;5;241;43m.\u001b[39;49m\u001b[43mdrop\u001b[49m\u001b[43m(\u001b[49m\u001b[43m[\u001b[49m\u001b[43m \u001b[49m\u001b[38;5;124;43m'\u001b[39;49m\u001b[38;5;124;43mAMT_DOWN_PAYMENT\u001b[39;49m\u001b[38;5;124;43m'\u001b[39;49m\u001b[43m,\u001b[49m\u001b[43m \u001b[49m\u001b[38;5;124;43m'\u001b[39;49m\u001b[38;5;124;43mRATE_DOWN_PAYMENT\u001b[39;49m\u001b[38;5;124;43m'\u001b[39;49m\u001b[43m,\u001b[49m\u001b[43m \u001b[49m\u001b[38;5;124;43m'\u001b[39;49m\u001b[38;5;124;43mRATE_INTEREST_PRIMARY\u001b[39;49m\u001b[38;5;124;43m'\u001b[39;49m\u001b[43m,\u001b[49m\n\u001b[0;32m      2\u001b[0m \u001b[43m       \u001b[49m\u001b[38;5;124;43m\"\u001b[39;49m\u001b[38;5;124;43mRATE_INTEREST_PRIVILEGED\u001b[39;49m\u001b[38;5;124;43m\"\u001b[39;49m\u001b[43m]\u001b[49m\u001b[43m,\u001b[49m\u001b[43maxis\u001b[49m\u001b[38;5;241;43m=\u001b[39;49m\u001b[38;5;241;43m1\u001b[39;49m\u001b[43m)\u001b[49m\n",
      "File \u001b[1;32m~\\anaconda3\\lib\\site-packages\\pandas\\util\\_decorators.py:311\u001b[0m, in \u001b[0;36mdeprecate_nonkeyword_arguments.<locals>.decorate.<locals>.wrapper\u001b[1;34m(*args, **kwargs)\u001b[0m\n\u001b[0;32m    305\u001b[0m \u001b[38;5;28;01mif\u001b[39;00m \u001b[38;5;28mlen\u001b[39m(args) \u001b[38;5;241m>\u001b[39m num_allow_args:\n\u001b[0;32m    306\u001b[0m     warnings\u001b[38;5;241m.\u001b[39mwarn(\n\u001b[0;32m    307\u001b[0m         msg\u001b[38;5;241m.\u001b[39mformat(arguments\u001b[38;5;241m=\u001b[39marguments),\n\u001b[0;32m    308\u001b[0m         \u001b[38;5;167;01mFutureWarning\u001b[39;00m,\n\u001b[0;32m    309\u001b[0m         stacklevel\u001b[38;5;241m=\u001b[39mstacklevel,\n\u001b[0;32m    310\u001b[0m     )\n\u001b[1;32m--> 311\u001b[0m \u001b[38;5;28;01mreturn\u001b[39;00m func(\u001b[38;5;241m*\u001b[39margs, \u001b[38;5;241m*\u001b[39m\u001b[38;5;241m*\u001b[39mkwargs)\n",
      "File \u001b[1;32m~\\anaconda3\\lib\\site-packages\\pandas\\core\\frame.py:4954\u001b[0m, in \u001b[0;36mDataFrame.drop\u001b[1;34m(self, labels, axis, index, columns, level, inplace, errors)\u001b[0m\n\u001b[0;32m   4806\u001b[0m \u001b[38;5;129m@deprecate_nonkeyword_arguments\u001b[39m(version\u001b[38;5;241m=\u001b[39m\u001b[38;5;28;01mNone\u001b[39;00m, allowed_args\u001b[38;5;241m=\u001b[39m[\u001b[38;5;124m\"\u001b[39m\u001b[38;5;124mself\u001b[39m\u001b[38;5;124m\"\u001b[39m, \u001b[38;5;124m\"\u001b[39m\u001b[38;5;124mlabels\u001b[39m\u001b[38;5;124m\"\u001b[39m])\n\u001b[0;32m   4807\u001b[0m \u001b[38;5;28;01mdef\u001b[39;00m \u001b[38;5;21mdrop\u001b[39m(\n\u001b[0;32m   4808\u001b[0m     \u001b[38;5;28mself\u001b[39m,\n\u001b[1;32m   (...)\u001b[0m\n\u001b[0;32m   4815\u001b[0m     errors: \u001b[38;5;28mstr\u001b[39m \u001b[38;5;241m=\u001b[39m \u001b[38;5;124m\"\u001b[39m\u001b[38;5;124mraise\u001b[39m\u001b[38;5;124m\"\u001b[39m,\n\u001b[0;32m   4816\u001b[0m ):\n\u001b[0;32m   4817\u001b[0m     \u001b[38;5;124;03m\"\"\"\u001b[39;00m\n\u001b[0;32m   4818\u001b[0m \u001b[38;5;124;03m    Drop specified labels from rows or columns.\u001b[39;00m\n\u001b[0;32m   4819\u001b[0m \n\u001b[1;32m   (...)\u001b[0m\n\u001b[0;32m   4952\u001b[0m \u001b[38;5;124;03m            weight  1.0     0.8\u001b[39;00m\n\u001b[0;32m   4953\u001b[0m \u001b[38;5;124;03m    \"\"\"\u001b[39;00m\n\u001b[1;32m-> 4954\u001b[0m     \u001b[38;5;28;01mreturn\u001b[39;00m \u001b[38;5;28;43msuper\u001b[39;49m\u001b[43m(\u001b[49m\u001b[43m)\u001b[49m\u001b[38;5;241;43m.\u001b[39;49m\u001b[43mdrop\u001b[49m\u001b[43m(\u001b[49m\n\u001b[0;32m   4955\u001b[0m \u001b[43m        \u001b[49m\u001b[43mlabels\u001b[49m\u001b[38;5;241;43m=\u001b[39;49m\u001b[43mlabels\u001b[49m\u001b[43m,\u001b[49m\n\u001b[0;32m   4956\u001b[0m \u001b[43m        \u001b[49m\u001b[43maxis\u001b[49m\u001b[38;5;241;43m=\u001b[39;49m\u001b[43maxis\u001b[49m\u001b[43m,\u001b[49m\n\u001b[0;32m   4957\u001b[0m \u001b[43m        \u001b[49m\u001b[43mindex\u001b[49m\u001b[38;5;241;43m=\u001b[39;49m\u001b[43mindex\u001b[49m\u001b[43m,\u001b[49m\n\u001b[0;32m   4958\u001b[0m \u001b[43m        \u001b[49m\u001b[43mcolumns\u001b[49m\u001b[38;5;241;43m=\u001b[39;49m\u001b[43mcolumns\u001b[49m\u001b[43m,\u001b[49m\n\u001b[0;32m   4959\u001b[0m \u001b[43m        \u001b[49m\u001b[43mlevel\u001b[49m\u001b[38;5;241;43m=\u001b[39;49m\u001b[43mlevel\u001b[49m\u001b[43m,\u001b[49m\n\u001b[0;32m   4960\u001b[0m \u001b[43m        \u001b[49m\u001b[43minplace\u001b[49m\u001b[38;5;241;43m=\u001b[39;49m\u001b[43minplace\u001b[49m\u001b[43m,\u001b[49m\n\u001b[0;32m   4961\u001b[0m \u001b[43m        \u001b[49m\u001b[43merrors\u001b[49m\u001b[38;5;241;43m=\u001b[39;49m\u001b[43merrors\u001b[49m\u001b[43m,\u001b[49m\n\u001b[0;32m   4962\u001b[0m \u001b[43m    \u001b[49m\u001b[43m)\u001b[49m\n",
      "File \u001b[1;32m~\\anaconda3\\lib\\site-packages\\pandas\\core\\generic.py:4267\u001b[0m, in \u001b[0;36mNDFrame.drop\u001b[1;34m(self, labels, axis, index, columns, level, inplace, errors)\u001b[0m\n\u001b[0;32m   4265\u001b[0m \u001b[38;5;28;01mfor\u001b[39;00m axis, labels \u001b[38;5;129;01min\u001b[39;00m axes\u001b[38;5;241m.\u001b[39mitems():\n\u001b[0;32m   4266\u001b[0m     \u001b[38;5;28;01mif\u001b[39;00m labels \u001b[38;5;129;01mis\u001b[39;00m \u001b[38;5;129;01mnot\u001b[39;00m \u001b[38;5;28;01mNone\u001b[39;00m:\n\u001b[1;32m-> 4267\u001b[0m         obj \u001b[38;5;241m=\u001b[39m \u001b[43mobj\u001b[49m\u001b[38;5;241;43m.\u001b[39;49m\u001b[43m_drop_axis\u001b[49m\u001b[43m(\u001b[49m\u001b[43mlabels\u001b[49m\u001b[43m,\u001b[49m\u001b[43m \u001b[49m\u001b[43maxis\u001b[49m\u001b[43m,\u001b[49m\u001b[43m \u001b[49m\u001b[43mlevel\u001b[49m\u001b[38;5;241;43m=\u001b[39;49m\u001b[43mlevel\u001b[49m\u001b[43m,\u001b[49m\u001b[43m \u001b[49m\u001b[43merrors\u001b[49m\u001b[38;5;241;43m=\u001b[39;49m\u001b[43merrors\u001b[49m\u001b[43m)\u001b[49m\n\u001b[0;32m   4269\u001b[0m \u001b[38;5;28;01mif\u001b[39;00m inplace:\n\u001b[0;32m   4270\u001b[0m     \u001b[38;5;28mself\u001b[39m\u001b[38;5;241m.\u001b[39m_update_inplace(obj)\n",
      "File \u001b[1;32m~\\anaconda3\\lib\\site-packages\\pandas\\core\\generic.py:4311\u001b[0m, in \u001b[0;36mNDFrame._drop_axis\u001b[1;34m(self, labels, axis, level, errors, consolidate, only_slice)\u001b[0m\n\u001b[0;32m   4309\u001b[0m         new_axis \u001b[38;5;241m=\u001b[39m axis\u001b[38;5;241m.\u001b[39mdrop(labels, level\u001b[38;5;241m=\u001b[39mlevel, errors\u001b[38;5;241m=\u001b[39merrors)\n\u001b[0;32m   4310\u001b[0m     \u001b[38;5;28;01melse\u001b[39;00m:\n\u001b[1;32m-> 4311\u001b[0m         new_axis \u001b[38;5;241m=\u001b[39m \u001b[43maxis\u001b[49m\u001b[38;5;241;43m.\u001b[39;49m\u001b[43mdrop\u001b[49m\u001b[43m(\u001b[49m\u001b[43mlabels\u001b[49m\u001b[43m,\u001b[49m\u001b[43m \u001b[49m\u001b[43merrors\u001b[49m\u001b[38;5;241;43m=\u001b[39;49m\u001b[43merrors\u001b[49m\u001b[43m)\u001b[49m\n\u001b[0;32m   4312\u001b[0m     indexer \u001b[38;5;241m=\u001b[39m axis\u001b[38;5;241m.\u001b[39mget_indexer(new_axis)\n\u001b[0;32m   4314\u001b[0m \u001b[38;5;66;03m# Case for non-unique axis\u001b[39;00m\n\u001b[0;32m   4315\u001b[0m \u001b[38;5;28;01melse\u001b[39;00m:\n",
      "File \u001b[1;32m~\\anaconda3\\lib\\site-packages\\pandas\\core\\indexes\\base.py:6644\u001b[0m, in \u001b[0;36mIndex.drop\u001b[1;34m(self, labels, errors)\u001b[0m\n\u001b[0;32m   6642\u001b[0m \u001b[38;5;28;01mif\u001b[39;00m mask\u001b[38;5;241m.\u001b[39many():\n\u001b[0;32m   6643\u001b[0m     \u001b[38;5;28;01mif\u001b[39;00m errors \u001b[38;5;241m!=\u001b[39m \u001b[38;5;124m\"\u001b[39m\u001b[38;5;124mignore\u001b[39m\u001b[38;5;124m\"\u001b[39m:\n\u001b[1;32m-> 6644\u001b[0m         \u001b[38;5;28;01mraise\u001b[39;00m \u001b[38;5;167;01mKeyError\u001b[39;00m(\u001b[38;5;124mf\u001b[39m\u001b[38;5;124m\"\u001b[39m\u001b[38;5;132;01m{\u001b[39;00m\u001b[38;5;28mlist\u001b[39m(labels[mask])\u001b[38;5;132;01m}\u001b[39;00m\u001b[38;5;124m not found in axis\u001b[39m\u001b[38;5;124m\"\u001b[39m)\n\u001b[0;32m   6645\u001b[0m     indexer \u001b[38;5;241m=\u001b[39m indexer[\u001b[38;5;241m~\u001b[39mmask]\n\u001b[0;32m   6646\u001b[0m \u001b[38;5;28;01mreturn\u001b[39;00m \u001b[38;5;28mself\u001b[39m\u001b[38;5;241m.\u001b[39mdelete(indexer)\n",
      "\u001b[1;31mKeyError\u001b[0m: \"['AMT_DOWN_PAYMENT', 'RATE_DOWN_PAYMENT', 'RATE_INTEREST_PRIMARY', 'RATE_INTEREST_PRIVILEGED'] not found in axis\""
     ]
    }
   ],
   "source": [
    "previous_application=previous_application.drop([ 'AMT_DOWN_PAYMENT', 'RATE_DOWN_PAYMENT', 'RATE_INTEREST_PRIMARY',\n",
    "       \"RATE_INTEREST_PRIVILEGED\"],axis=1)"
   ]
  },
  {
   "cell_type": "code",
   "execution_count": null,
   "id": "7201268b",
   "metadata": {},
   "outputs": [],
   "source": [
    "fig = plt.figure(figsize=(18,6))\n",
    "miss_previous_application = pd.DataFrame((previous_application.isnull().sum())*100/previous_application.shape[0]).reset_index()\n",
    "miss_previous_application[\"type\"] = \"previous_application\"\n",
    "ax = sns.pointplot(\"index\",0,data=miss_previous_application,hue=\"type\")\n",
    "plt.xticks(rotation =90,fontsize =7)\n",
    "plt.title(\"Percentage of Missing values in previous_application\")\n",
    "plt.ylabel(\"PERCENTAGE\")\n",
    "plt.xlabel(\"COLUMNS\")\n",
    "ax.set_facecolor(\"k\")\n",
    "fig.set_facecolor(\"lightgrey\")"
   ]
  },
  {
   "cell_type": "code",
   "execution_count": null,
   "id": "3a04b07d",
   "metadata": {},
   "outputs": [],
   "source": [
    "round(100*(previous_application.isnull().sum()/len(previous_application.index)),2)"
   ]
  },
  {
   "cell_type": "code",
   "execution_count": null,
   "id": "d681a5fd",
   "metadata": {},
   "outputs": [],
   "source": [
    "print(\"AMT_ANNUITY NULL COUNT:\" ,previous_application['AMT_ANNUITY'].isnull().sum())"
   ]
  },
  {
   "cell_type": "code",
   "execution_count": null,
   "id": "dc342844",
   "metadata": {},
   "outputs": [],
   "source": [
    "previous_application['AMT_ANNUITY'].describe()"
   ]
  },
  {
   "cell_type": "code",
   "execution_count": null,
   "id": "7b54940f",
   "metadata": {},
   "outputs": [],
   "source": [
    "sns.set_style('whitegrid') \n",
    "sns.distplot(previous_application['AMT_ANNUITY']) \n",
    "plt.show()"
   ]
  },
  {
   "cell_type": "code",
   "execution_count": null,
   "id": "8abb24a9",
   "metadata": {},
   "outputs": [],
   "source": [
    "print(\"AMT_GOODS_PRICE NULL COUNT:\" ,previous_application['AMT_GOODS_PRICE'].isnull().sum())"
   ]
  },
  {
   "cell_type": "code",
   "execution_count": null,
   "id": "70b5c8cd",
   "metadata": {},
   "outputs": [],
   "source": [
    "previous_application['AMT_GOODS_PRICE'].describe()"
   ]
  },
  {
   "cell_type": "code",
   "execution_count": null,
   "id": "77f68bbb",
   "metadata": {},
   "outputs": [],
   "source": [
    "sns.set_style('whitegrid') \n",
    "sns.distplot(previous_application['AMT_GOODS_PRICE']) \n",
    "plt.show()"
   ]
  },
  {
   "cell_type": "code",
   "execution_count": null,
   "id": "dba4c533",
   "metadata": {},
   "outputs": [],
   "source": [
    "print(\"NAME_TYPE_SUITE NULL COUNT:\" ,previous_application['NAME_TYPE_SUITE'].isnull().sum())"
   ]
  },
  {
   "cell_type": "code",
   "execution_count": null,
   "id": "36657175",
   "metadata": {},
   "outputs": [],
   "source": [
    "previous_application['NAME_TYPE_SUITE'].value_counts()"
   ]
  },
  {
   "cell_type": "code",
   "execution_count": null,
   "id": "f150d852",
   "metadata": {},
   "outputs": [],
   "source": [
    "previous_application['CNT_PAYMENT'].describe()"
   ]
  },
  {
   "cell_type": "code",
   "execution_count": null,
   "id": "ba9abd20",
   "metadata": {},
   "outputs": [],
   "source": [
    "sns.set_style('whitegrid') \n",
    "sns.boxplot(previous_application['CNT_PAYMENT']) \n",
    "plt.show()"
   ]
  },
  {
   "cell_type": "markdown",
   "id": "30be7d9a",
   "metadata": {},
   "source": [
    "## Suggestion"
   ]
  },
  {
   "cell_type": "code",
   "execution_count": null,
   "id": "7ce538e6",
   "metadata": {},
   "outputs": [],
   "source": [
    "print(\"DAYS_FIRST_DRAWING :\" ,previous_application['CNT_PAYMENT'].isnull().sum())"
   ]
  },
  {
   "cell_type": "code",
   "execution_count": null,
   "id": "aaa56179",
   "metadata": {},
   "outputs": [],
   "source": [
    "previous_application['DAYS_FIRST_DRAWING'].describe()"
   ]
  },
  {
   "cell_type": "code",
   "execution_count": null,
   "id": "5580c278",
   "metadata": {},
   "outputs": [],
   "source": [
    "sns.set_style('whitegrid') \n",
    "sns.boxplot(previous_application['DAYS_FIRST_DRAWING']) \n",
    "plt.show()\n"
   ]
  },
  {
   "cell_type": "code",
   "execution_count": null,
   "id": "90b2f655",
   "metadata": {},
   "outputs": [],
   "source": [
    "print(\"DAYS_FIRST_DUE :\" ,previous_application['DAYS_FIRST_DUE'].isnull().sum())"
   ]
  },
  {
   "cell_type": "code",
   "execution_count": null,
   "id": "a848106c",
   "metadata": {},
   "outputs": [],
   "source": [
    "previous_application['DAYS_FIRST_DUE'].describe()"
   ]
  },
  {
   "cell_type": "code",
   "execution_count": null,
   "id": "ed749560",
   "metadata": {},
   "outputs": [],
   "source": [
    "sns.set_style('whitegrid') \n",
    "sns.boxplot(previous_application['DAYS_FIRST_DUE']) \n",
    "plt.show()"
   ]
  },
  {
   "cell_type": "code",
   "execution_count": null,
   "id": "5a15147a",
   "metadata": {},
   "outputs": [],
   "source": []
  },
  {
   "cell_type": "code",
   "execution_count": null,
   "id": "98f329f9",
   "metadata": {},
   "outputs": [],
   "source": [
    "print(\"DAYS_LAST_DUE_1ST_VERSION :\" ,previous_application['DAYS_LAST_DUE_1ST_VERSION'].isnull().sum())"
   ]
  },
  {
   "cell_type": "code",
   "execution_count": null,
   "id": "76272d39",
   "metadata": {},
   "outputs": [],
   "source": [
    "previous_application['DAYS_LAST_DUE_1ST_VERSION'].describe()"
   ]
  },
  {
   "cell_type": "code",
   "execution_count": null,
   "id": "387fa105",
   "metadata": {},
   "outputs": [],
   "source": [
    "sns.set_style('whitegrid') \n",
    "sns.boxplot(previous_application['DAYS_LAST_DUE_1ST_VERSION']) \n",
    "plt.show()"
   ]
  },
  {
   "cell_type": "code",
   "execution_count": null,
   "id": "2383d3af",
   "metadata": {},
   "outputs": [],
   "source": []
  },
  {
   "cell_type": "code",
   "execution_count": null,
   "id": "bdc91696",
   "metadata": {},
   "outputs": [],
   "source": [
    "print(\"DAYS_LAST_DUE:\" ,previous_application['DAYS_LAST_DUE'].isnull().sum())"
   ]
  },
  {
   "cell_type": "code",
   "execution_count": null,
   "id": "f95ccd9c",
   "metadata": {},
   "outputs": [],
   "source": [
    "previous_application['DAYS_LAST_DUE'].describe()"
   ]
  },
  {
   "cell_type": "code",
   "execution_count": null,
   "id": "e3372134",
   "metadata": {},
   "outputs": [],
   "source": [
    "sns.set_style('whitegrid') \n",
    "sns.boxplot(previous_application['DAYS_LAST_DUE']) \n",
    "plt.show()"
   ]
  },
  {
   "cell_type": "code",
   "execution_count": null,
   "id": "935078e3",
   "metadata": {},
   "outputs": [],
   "source": []
  },
  {
   "cell_type": "code",
   "execution_count": null,
   "id": "0a863261",
   "metadata": {},
   "outputs": [],
   "source": [
    "print(\"DAYS_TERMINATION :\" ,previous_application['DAYS_TERMINATION'].isnull().sum())"
   ]
  },
  {
   "cell_type": "code",
   "execution_count": null,
   "id": "35cce48c",
   "metadata": {},
   "outputs": [],
   "source": [
    "previous_application['DAYS_TERMINATION'].describe()"
   ]
  },
  {
   "cell_type": "code",
   "execution_count": null,
   "id": "df5ad924",
   "metadata": {},
   "outputs": [],
   "source": [
    "sns.set_style('whitegrid') \n",
    "sns.boxplot(previous_application['DAYS_TERMINATION']) \n",
    "plt.show()"
   ]
  },
  {
   "cell_type": "code",
   "execution_count": null,
   "id": "81a9dda4",
   "metadata": {},
   "outputs": [],
   "source": []
  },
  {
   "cell_type": "code",
   "execution_count": null,
   "id": "f3c518d9",
   "metadata": {},
   "outputs": [],
   "source": [
    "print(\"NFLAG_INSURED_ON_APPROVAL:\" ,previous_application['NFLAG_INSURED_ON_APPROVAL'].isnull().sum())"
   ]
  },
  {
   "cell_type": "code",
   "execution_count": null,
   "id": "478a2fc5",
   "metadata": {},
   "outputs": [],
   "source": [
    "previous_application['NFLAG_INSURED_ON_APPROVAL'].value_counts()"
   ]
  },
  {
   "cell_type": "code",
   "execution_count": null,
   "id": "47b3b74d",
   "metadata": {},
   "outputs": [],
   "source": []
  },
  {
   "cell_type": "code",
   "execution_count": null,
   "id": "e94613f2",
   "metadata": {},
   "outputs": [],
   "source": [
    "previous_application.isnull().sum()"
   ]
  },
  {
   "cell_type": "code",
   "execution_count": null,
   "id": "95476865",
   "metadata": {},
   "outputs": [],
   "source": [
    "print(\"AMT_CREDIT :\" ,previous_application['AMT_CREDIT'].isnull().sum())"
   ]
  },
  {
   "cell_type": "code",
   "execution_count": null,
   "id": "11f1dbbd",
   "metadata": {},
   "outputs": [],
   "source": [
    "previous_application['AMT_CREDIT'].describe()"
   ]
  },
  {
   "cell_type": "code",
   "execution_count": null,
   "id": "e903a51e",
   "metadata": {},
   "outputs": [],
   "source": [
    "sns.set_style('whitegrid') \n",
    "sns.boxplot(previous_application['AMT_CREDIT']) \n",
    "plt.show()"
   ]
  },
  {
   "cell_type": "code",
   "execution_count": null,
   "id": "0e4c946f",
   "metadata": {},
   "outputs": [],
   "source": []
  },
  {
   "cell_type": "code",
   "execution_count": null,
   "id": "a5543849",
   "metadata": {},
   "outputs": [],
   "source": [
    "print(\"PRODUCT_COMBINATION :\" ,previous_application['PRODUCT_COMBINATION'].isnull().sum())"
   ]
  },
  {
   "cell_type": "code",
   "execution_count": null,
   "id": "14895d19",
   "metadata": {},
   "outputs": [],
   "source": [
    "previous_application['PRODUCT_COMBINATION'].value_counts()"
   ]
  },
  {
   "cell_type": "code",
   "execution_count": null,
   "id": "696207f8",
   "metadata": {},
   "outputs": [],
   "source": []
  },
  {
   "cell_type": "code",
   "execution_count": null,
   "id": "449390eb",
   "metadata": {},
   "outputs": [],
   "source": [
    "class color:\n",
    "   PURPLE = '\\033[95m'\n",
    "   CYAN = '\\033[96m'\n",
    "   DARKCYAN = '\\033[36m'\n",
    "   BLUE = '\\033[94m'\n",
    "   GREEN = '\\033[92m'\n",
    "   YELLOW = '\\033[93m'\n",
    "   RED = '\\033[91m'\n",
    "   BOLD = '\\033[1m'\n",
    "   UNDERLINE = '\\033[4m'\n",
    "   END = '\\033[0m'"
   ]
  },
  {
   "cell_type": "code",
   "execution_count": null,
   "id": "6a8a9ed3",
   "metadata": {},
   "outputs": [],
   "source": [
    "obj_dtypes = [i for i in previous_application.select_dtypes(include=np.object).columns if i not in [\"type\"] ]\n",
    "num_dtypes = [i for i in previous_application.select_dtypes(include = np.number).columns if i not in ['SK_ID_CURR'] + [ 'TARGET']]"
   ]
  },
  {
   "cell_type": "code",
   "execution_count": null,
   "id": "aeebcaf7",
   "metadata": {},
   "outputs": [],
   "source": [
    "print(color.BOLD + color.PURPLE + 'Categorical Columns' + color.END, \"\\n\")\n",
    "for x in range(len(obj_dtypes)): \n",
    "    print(obj_dtypes[x])"
   ]
  },
  {
   "cell_type": "code",
   "execution_count": null,
   "id": "b7ac8086",
   "metadata": {},
   "outputs": [],
   "source": [
    "print(color.BOLD + color.PURPLE + 'Numerical' + color.END, \"\\n\")\n",
    "for x in range(len(obj_dtypes)): \n",
    "    print(obj_dtypes[x])"
   ]
  },
  {
   "cell_type": "markdown",
   "id": "7a298c96",
   "metadata": {},
   "source": [
    "## Percentage of Missing values in application_data"
   ]
  },
  {
   "cell_type": "code",
   "execution_count": null,
   "id": "9e13f65c",
   "metadata": {},
   "outputs": [],
   "source": [
    "fig = plt.figure(figsize=(18,6))\n",
    "miss_application_data = pd.DataFrame((application_data.isnull().sum())*100/application_data.shape[0]).reset_index()\n",
    "miss_application_data[\"type\"] = \"application_data\"\n",
    "ax = sns.pointplot(\"index\",0,data=miss_application_data,hue=\"type\")\n",
    "plt.xticks(rotation =90,fontsize =7)\n",
    "plt.title(\"Percentage of Missing values in application_data\")\n",
    "plt.ylabel(\"PERCENTAGE\")\n",
    "plt.xlabel(\"COLUMNS\")\n",
    "ax.set_facecolor(\"k\")\n",
    "fig.set_facecolor(\"lightgrey\")"
   ]
  },
  {
   "cell_type": "code",
   "execution_count": null,
   "id": "4de7b942",
   "metadata": {},
   "outputs": [],
   "source": [
    "round(100*(application_data.isnull().sum()/len(application_data.index)),2)"
   ]
  },
  {
   "cell_type": "code",
   "execution_count": null,
   "id": "4074ef38",
   "metadata": {},
   "outputs": [],
   "source": [
    "#Removing columns with missing values more than 40%¶\n",
    "#As per Industrial Standard, max Threshold limit can be between 40% to 50 % depending upon the data acquired in specific sector."
   ]
  },
  {
   "cell_type": "code",
   "execution_count": null,
   "id": "7a37760a",
   "metadata": {},
   "outputs": [],
   "source": [
    "application_data=application_data.drop([ 'EXT_SOURCE_1', 'EXT_SOURCE_2', 'EXT_SOURCE_3',\n",
    "       'APARTMENTS_AVG', 'BASEMENTAREA_AVG', 'YEARS_BEGINEXPLUATATION_AVG',\n",
    "       'YEARS_BUILD_AVG', 'COMMONAREA_AVG', 'ELEVATORS_AVG', 'ENTRANCES_AVG',\n",
    "       'FLOORSMAX_AVG', 'FLOORSMIN_AVG', 'LANDAREA_AVG',\n",
    "       'LIVINGAPARTMENTS_AVG', 'LIVINGAREA_AVG', 'NONLIVINGAPARTMENTS_AVG',\n",
    "       'NONLIVINGAREA_AVG', 'APARTMENTS_MODE', 'BASEMENTAREA_MODE',\n",
    "       'YEARS_BEGINEXPLUATATION_MODE', 'YEARS_BUILD_MODE', 'COMMONAREA_MODE',\n",
    "       'ELEVATORS_MODE', 'ENTRANCES_MODE', 'FLOORSMAX_MODE', 'FLOORSMIN_MODE',\n",
    "       'LANDAREA_MODE', 'LIVINGAPARTMENTS_MODE', 'LIVINGAREA_MODE',\n",
    "       'NONLIVINGAPARTMENTS_MODE', 'NONLIVINGAREA_MODE', 'APARTMENTS_MEDI',\n",
    "       'BASEMENTAREA_MEDI', 'YEARS_BEGINEXPLUATATION_MEDI', 'YEARS_BUILD_MEDI',\n",
    "       'COMMONAREA_MEDI', 'ELEVATORS_MEDI', 'ENTRANCES_MEDI', 'FLOORSMAX_MEDI',\n",
    "       'FLOORSMIN_MEDI', 'LANDAREA_MEDI', 'LIVINGAPARTMENTS_MEDI',\n",
    "       'LIVINGAREA_MEDI', 'NONLIVINGAPARTMENTS_MEDI', 'NONLIVINGAREA_MEDI',\n",
    "       'FONDKAPREMONT_MODE', 'HOUSETYPE_MODE', 'TOTALAREA_MODE',\n",
    "       'WALLSMATERIAL_MODE', 'EMERGENCYSTATE_MODE',\"OWN_CAR_AGE\",\"OCCUPATION_TYPE\"],axis=1)"
   ]
  },
  {
   "cell_type": "code",
   "execution_count": null,
   "id": "3ad4a2f8",
   "metadata": {},
   "outputs": [],
   "source": [
    "fig = plt.figure(figsize=(18,6))\n",
    "miss_application_data = pd.DataFrame((application_data.isnull().sum())*100/application_data.shape[0]).reset_index()\n",
    "miss_application_data[\"type\"] = \"application_data\"\n",
    "ax = sns.pointplot(\"index\",0,data=miss_application_data,hue=\"type\")\n",
    "plt.xticks(rotation =90,fontsize =7)\n",
    "plt.title(\"Percentage of Missing values in application_data\")\n",
    "plt.ylabel(\"PERCENTAGE\")\n",
    "plt.xlabel(\"COLUMNS\")\n",
    "ax.set_facecolor(\"k\")\n",
    "fig.set_facecolor(\"lightgrey\")"
   ]
  },
  {
   "cell_type": "code",
   "execution_count": null,
   "id": "9d15f60d",
   "metadata": {},
   "outputs": [],
   "source": [
    "round(100*(application_data.isnull().sum()/len(application_data.index)),2)"
   ]
  },
  {
   "cell_type": "markdown",
   "id": "dab513b3",
   "metadata": {},
   "source": [
    "## MISSING values Suggestion"
   ]
  },
  {
   "cell_type": "code",
   "execution_count": null,
   "id": "76f48b4f",
   "metadata": {},
   "outputs": [],
   "source": [
    "print(\"AMT_ANNUITY NULL COUNT:\" ,previous_application['AMT_ANNUITY'].isnull().sum())"
   ]
  },
  {
   "cell_type": "code",
   "execution_count": null,
   "id": "329b7336",
   "metadata": {},
   "outputs": [],
   "source": [
    "previous_application['AMT_ANNUITY'].describe()"
   ]
  },
  {
   "cell_type": "code",
   "execution_count": null,
   "id": "847781f7",
   "metadata": {},
   "outputs": [],
   "source": [
    "sns.set_style('whitegrid') \n",
    "sns.distplot(previous_application['AMT_ANNUITY']) \n",
    "plt.show()"
   ]
  },
  {
   "cell_type": "code",
   "execution_count": null,
   "id": "7cd49e69",
   "metadata": {},
   "outputs": [],
   "source": [
    "#Suggestion\n",
    "#We can Fill NA with 15955 i.e. Mean for this field"
   ]
  },
  {
   "cell_type": "code",
   "execution_count": null,
   "id": "9eb76b48",
   "metadata": {},
   "outputs": [],
   "source": [
    "print(\"AMT_GOODS_PRICE NULL COUNT:\" ,previous_application['AMT_GOODS_PRICE'].isnull().sum()"
   ]
  },
  {
   "cell_type": "code",
   "execution_count": null,
   "id": "42d81227",
   "metadata": {},
   "outputs": [],
   "source": [
    "previous_application['AMT_GOODS_PRICE'].describe()"
   ]
  },
  {
   "cell_type": "code",
   "execution_count": null,
   "id": "e3a45175",
   "metadata": {},
   "outputs": [],
   "source": [
    "sns.set_style('whitegrid') \n",
    "sns.distplot(previous_application['AMT_GOODS_PRICE']) \n",
    "plt.show()"
   ]
  },
  {
   "cell_type": "code",
   "execution_count": null,
   "id": "78d74548",
   "metadata": {},
   "outputs": [],
   "source": [
    "#Suggestion\n",
    "#We can Fill NA with 112320 i.e. Median for this field"
   ]
  },
  {
   "cell_type": "code",
   "execution_count": null,
   "id": "f7246c31",
   "metadata": {},
   "outputs": [],
   "source": [
    "print(\"NAME_TYPE_SUITE NULL COUNT:\" ,previous_application['NAME_TYPE_SUITE'].isnull().sum()) "
   ]
  },
  {
   "cell_type": "code",
   "execution_count": null,
   "id": "f2dc5a8c",
   "metadata": {},
   "outputs": [],
   "source": [
    "previous_application['NAME_TYPE_SUITE'].value_counts()"
   ]
  },
  {
   "cell_type": "code",
   "execution_count": null,
   "id": "9e3be25a",
   "metadata": {},
   "outputs": [],
   "source": [
    "#Suggestion\n",
    "#We can Fill NA with Unaccompanied i.e. Mode for this field"
   ]
  },
  {
   "cell_type": "code",
   "execution_count": null,
   "id": "0b2aa96b",
   "metadata": {},
   "outputs": [],
   "source": [
    "print(\"CNT_PAYMENT NULL COUNT:\" ,previous_application['CNT_PAYMENT'].isnull().sum())"
   ]
  },
  {
   "cell_type": "code",
   "execution_count": null,
   "id": "4f7b24c8",
   "metadata": {},
   "outputs": [],
   "source": [
    "previous_application['CNT_PAYMENT'].describe()"
   ]
  },
  {
   "cell_type": "code",
   "execution_count": null,
   "id": "20e3e203",
   "metadata": {},
   "outputs": [],
   "source": [
    "sns.set_style('whitegrid') \n",
    "sns.boxplot(previous_application['CNT_PAYMENT']) \n",
    "plt.show()"
   ]
  },
  {
   "cell_type": "markdown",
   "id": "91351238",
   "metadata": {},
   "source": [
    "### Separating numerical and categorical columns from previous_application¶"
   ]
  },
  {
   "cell_type": "code",
   "execution_count": null,
   "id": "44a0a5d8",
   "metadata": {},
   "outputs": [],
   "source": [
    "obj_dtypes = [i for i in previous_application.select_dtypes(include=np.object).columns if i not in [\"type\"] ]\n",
    "num_dtypes = [i for i in previous_application.select_dtypes(include = np.number).columns if i not in ['SK_ID_CURR'] + [ 'TARGET']]"
   ]
  },
  {
   "cell_type": "code",
   "execution_count": null,
   "id": "c6326ea4",
   "metadata": {},
   "outputs": [],
   "source": [
    "print(color.BOLD + color.PURPLE + 'Categorical Columns' + color.END, \"\\n\")\n",
    "for x in range(len(obj_dtypes)): \n",
    "    print(obj_dtypes[x])"
   ]
  },
  {
   "cell_type": "code",
   "execution_count": null,
   "id": "25924bfc",
   "metadata": {},
   "outputs": [],
   "source": [
    "print(color.BOLD + color.PURPLE + 'Numerical' + color.END, \"\\n\")\n",
    "for x in range(len(obj_dtypes)): \n",
    "    print(obj_dtypes[x])"
   ]
  },
  {
   "cell_type": "markdown",
   "id": "9cc9b37f",
   "metadata": {},
   "source": [
    "### Percentage of Missing values in application_data"
   ]
  },
  {
   "cell_type": "code",
   "execution_count": null,
   "id": "fcb5f9e7",
   "metadata": {},
   "outputs": [],
   "source": [
    "fig = plt.figure(figsize=(18,6))\n",
    "miss_application_data = pd.DataFrame((application_data.isnull().sum())*100/application_data.shape[0]).reset_index()\n",
    "miss_application_data[\"type\"] = \"application_data\"\n",
    "ax = sns.pointplot(\"index\",0,data=miss_application_data,hue=\"type\")\n",
    "plt.xticks(rotation =90,fontsize =7)\n",
    "plt.title(\"Percentage of Missing values in application_data\")\n",
    "plt.ylabel(\"PERCENTAGE\")\n",
    "plt.xlabel(\"COLUMNS\")\n",
    "ax.set_facecolor(\"k\")\n",
    "fig.set_facecolor(\"lightgrey\")"
   ]
  },
  {
   "cell_type": "code",
   "execution_count": null,
   "id": "84ef3e3c",
   "metadata": {},
   "outputs": [],
   "source": [
    "round(100*(application_data.isnull().sum()/len(application_data.index)),2)"
   ]
  },
  {
   "cell_type": "markdown",
   "id": "5c93389d",
   "metadata": {},
   "source": [
    "## Removing columns with missing values more than 40%\n",
    "### As per Industrial Standard, max Threshold limit can be between 40% to 50 % depending upon the data acquired in specific sector."
   ]
  },
  {
   "cell_type": "code",
   "execution_count": null,
   "id": "0790ae65",
   "metadata": {},
   "outputs": [],
   "source": [
    "application_data=application_data.drop([ 'EXT_SOURCE_1', 'EXT_SOURCE_2', 'EXT_SOURCE_3',\n",
    "       'APARTMENTS_AVG', 'BASEMENTAREA_AVG', 'YEARS_BEGINEXPLUATATION_AVG',\n",
    "       'YEARS_BUILD_AVG', 'COMMONAREA_AVG', 'ELEVATORS_AVG', 'ENTRANCES_AVG',\n",
    "       'FLOORSMAX_AVG', 'FLOORSMIN_AVG', 'LANDAREA_AVG',\n",
    "       'LIVINGAPARTMENTS_AVG', 'LIVINGAREA_AVG', 'NONLIVINGAPARTMENTS_AVG',\n",
    "       'NONLIVINGAREA_AVG', 'APARTMENTS_MODE', 'BASEMENTAREA_MODE',\n",
    "       'YEARS_BEGINEXPLUATATION_MODE', 'YEARS_BUILD_MODE', 'COMMONAREA_MODE',\n",
    "       'ELEVATORS_MODE', 'ENTRANCES_MODE', 'FLOORSMAX_MODE', 'FLOORSMIN_MODE',\n",
    "       'LANDAREA_MODE', 'LIVINGAPARTMENTS_MODE', 'LIVINGAREA_MODE',\n",
    "       'NONLIVINGAPARTMENTS_MODE', 'NONLIVINGAREA_MODE', 'APARTMENTS_MEDI',\n",
    "       'BASEMENTAREA_MEDI', 'YEARS_BEGINEXPLUATATION_MEDI', 'YEARS_BUILD_MEDI',\n",
    "       'COMMONAREA_MEDI', 'ELEVATORS_MEDI', 'ENTRANCES_MEDI', 'FLOORSMAX_MEDI',\n",
    "       'FLOORSMIN_MEDI', 'LANDAREA_MEDI', 'LIVINGAPARTMENTS_MEDI',\n",
    "       'LIVINGAREA_MEDI', 'NONLIVINGAPARTMENTS_MEDI', 'NONLIVINGAREA_MEDI',\n",
    "       'FONDKAPREMONT_MODE', 'HOUSETYPE_MODE', 'TOTALAREA_MODE',\n",
    "       'WALLSMATERIAL_MODE', 'EMERGENCYSTATE_MODE',\"OWN_CAR_AGE\",\"OCCUPATION_TYPE\"],axis=1"
   ]
  },
  {
   "cell_type": "code",
   "execution_count": null,
   "id": "93c58e91",
   "metadata": {},
   "outputs": [],
   "source": [
    "fig = plt.figure(figsize=(18,6))\n",
    "miss_application_data = pd.DataFrame((application_data.isnull().sum())*100/application_data.shape[0]).reset_index()\n",
    "miss_application_data[\"type\"] = \"application_data\"\n",
    "ax = sns.pointplot(\"index\",0,data=miss_application_data,hue=\"type\")\n",
    "plt.xticks(rotation =90,fontsize =7)\n",
    "plt.title(\"Percentage of Missing values in application_data\")\n",
    "plt.ylabel(\"PERCENTAGE\")\n",
    "plt.xlabel(\"COLUMNS\")\n",
    "ax.set_facecolor(\"k\")\n",
    "fig.set_facecolor(\"lightgrey\")"
   ]
  },
  {
   "cell_type": "code",
   "execution_count": null,
   "id": "29b8ed38",
   "metadata": {},
   "outputs": [],
   "source": [
    "round(100*(application_data.isnull().sum()/len(application_data.index)),2)"
   ]
  },
  {
   "cell_type": "markdown",
   "id": "90b1b140",
   "metadata": {},
   "source": [
    "### Print the information about the attributes of application_data"
   ]
  },
  {
   "cell_type": "code",
   "execution_count": null,
   "id": "4257b64d",
   "metadata": {},
   "outputs": [],
   "source": [
    "print(type(application_data.info()))"
   ]
  },
  {
   "cell_type": "markdown",
   "id": "34f0ae80",
   "metadata": {},
   "source": [
    "## Converting negative values to absolute values"
   ]
  },
  {
   "cell_type": "code",
   "execution_count": null,
   "id": "4ed2155c",
   "metadata": {},
   "outputs": [],
   "source": [
    "application_data['DAYS_BIRTH'] = abs(application_data['DAYS_BIRTH'])\n",
    "application_data['DAYS_ID_PUBLISH'] = abs(application_data['DAYS_ID_PUBLISH'])\n",
    "application_data['DAYS_ID_PUBLISH'] = abs(application_data['DAYS_ID_PUBLISH'])\n",
    "application_data['DAYS_LAST_PHONE_CHANGE'] = abs(application_data['DAYS_LAST_PHONE_CHANGE'])"
   ]
  },
  {
   "cell_type": "code",
   "execution_count": null,
   "id": "c73185e1",
   "metadata": {},
   "outputs": [],
   "source": [
    "display(\"application_data\")\n",
    "display(application_data.head())"
   ]
  },
  {
   "cell_type": "markdown",
   "id": "f1748aaf",
   "metadata": {},
   "source": [
    "# Separating numerical and categorical in application_data"
   ]
  },
  {
   "cell_type": "code",
   "execution_count": null,
   "id": "816101fb",
   "metadata": {},
   "outputs": [],
   "source": [
    "obj_dtypes = [i for i in application_data.select_dtypes(include=np.object).columns if i not in [\"type\"] ]\n",
    "num_dtypes = [i for i in application_data.select_dtypes(include = np.number).columns if i not in ['SK_ID_CURR'] + [ 'TARGET']]"
   ]
  },
  {
   "cell_type": "code",
   "execution_count": null,
   "id": "dd8ad61e",
   "metadata": {},
   "outputs": [],
   "source": [
    "print(color.BOLD + color.PURPLE + 'Categorical Columns' + color.END, \"\\n\")\n",
    "for x in range(len(obj_dtypes)): \n",
    "    print(obj_dtypes[x])"
   ]
  },
  {
   "cell_type": "code",
   "execution_count": null,
   "id": "cf9ec2e1",
   "metadata": {},
   "outputs": [],
   "source": [
    "print(color.BOLD + color.PURPLE +\"Numerical Columns\" + color.END, \"\\n\")\n",
    "for x in range(len(num_dtypes)): \n",
    "    print(num_dtypes[x])"
   ]
  },
  {
   "cell_type": "markdown",
   "id": "243be9ad",
   "metadata": {},
   "source": [
    "# Imbalance percentage"
   ]
  },
  {
   "cell_type": "code",
   "execution_count": null,
   "id": "3af67f3e",
   "metadata": {},
   "outputs": [],
   "source": [
    "fig = plt.figure(figsize=(13,6))\n",
    "plt.subplot(121)\n",
    "application_data[\"CODE_GENDER\"].value_counts().plot.pie(autopct = \"%1.0f%%\",colors = [\"red\",\"yellow\"],startangle = 60,\n",
    "                                                                        wedgeprops={\"linewidth\":2,\"edgecolor\":\"k\"},explode=[.05,0,0],shadow =True)\n",
    "plt.title(\"Distribution of gender\")\n",
    "plt.show()"
   ]
  },
  {
   "cell_type": "markdown",
   "id": "2a8b6e9d",
   "metadata": {},
   "source": [
    "# Distribution of Target variable"
   ]
  },
  {
   "cell_type": "code",
   "execution_count": null,
   "id": "11e0fbe0",
   "metadata": {},
   "outputs": [],
   "source": [
    "plt.figure(figsize=(14,7))\n",
    "plt.subplot(121)\n",
    "application_data[\"TARGET\"].value_counts().plot.pie(autopct = \"%1.0f%%\",colors = sns.color_palette(\"prism\",7),startangle = 60,labels=[\"repayer\",\"defaulter\"],\n",
    "                                                                        wedgeprops={\"linewidth\":2,\"edgecolor\":\"k\"},explode=[.1,0],shadow =True)\n",
    "plt.title(\"Distribution of target variable\")\n",
    "\n",
    "plt.subplot(122)\n",
    "ax = application_data[\"TARGET\"].value_counts().plot(kind=\"barh\")\n",
    "\n",
    "for i,j in enumerate(application_data[\"TARGET\"].value_counts().values):\n",
    "    ax.text(.7,i,j,weight = \"bold\",fontsize=20)\n",
    "\n",
    "plt.title(\"Count of target variable\")\n",
    "plt.show()"
   ]
  },
  {
   "cell_type": "markdown",
   "id": "9c57035e",
   "metadata": {},
   "source": [
    "# Concatenating application_data and previous_application"
   ]
  },
  {
   "cell_type": "code",
   "execution_count": null,
   "id": "45ebdd6e",
   "metadata": {},
   "outputs": [],
   "source": [
    "application_data_x = application_data[[x for x in application_data.columns if x not in [\"TARGET\"]]]\n",
    "previous_application_x = previous_application[[x for x in previous_application.columns if x not in [\"TARGET\"]]]\n",
    "application_data_x[\"type\"] = \"application_data\"\n",
    "previous_application_x[\"type\"] = \"previous_application\"\n",
    "data = pd.concat([application_data_x,previous_application_x],axis=0) "
   ]
  },
  {
   "cell_type": "markdown",
   "id": "be0775b7",
   "metadata": {},
   "source": [
    "# Distribution in Contract types in application_data\n",
    "## NAME_CONTRACT_TYPE : Identification if loan is cash , consumer or revolving"
   ]
  },
  {
   "cell_type": "code",
   "execution_count": null,
   "id": "517fb354",
   "metadata": {},
   "outputs": [],
   "source": [
    "plt.figure(figsize=(14,7))\n",
    "plt.subplot(121)\n",
    "data[data[\"type\"] == \"application_data\"][\"NAME_CONTRACT_TYPE\"].value_counts().plot.pie(autopct = \"%1.0f%%\",colors = [\"orange\",\"red\"],startangle = 60,\n",
    "                                                                        wedgeprops={\"linewidth\":2,\"edgecolor\":\"white\"},shadow =True)\n",
    "circ = plt.Circle((0,0),.7,color=\"white\")\n",
    "plt.gca().add_artist(circ)\n",
    "plt.title(\"distribution of contract types in application_data\")\n",
    "\n",
    "plt.subplot(122)\n",
    "data[data[\"type\"] == \"previous_application\"][\"NAME_CONTRACT_TYPE\"].value_counts().plot.pie(autopct = \"%1.2f%%\",colors = [\"red\",\"yellow\",\"green\",'BLACK'],startangle = 60,\n",
    "                                                                        wedgeprops={\"linewidth\":2,\"edgecolor\":\"white\"},shadow =True)\n",
    "circ = plt.Circle((0,0),.7,color=\"white\")\n",
    "plt.gca().add_artist(circ)\n",
    "plt.ylabel(\"\")\n",
    "plt.title(\"distribution of contract types in previous_application\")\n",
    "plt.show()\n",
    "\n",
    "plt.show()"
   ]
  },
  {
   "cell_type": "markdown",
   "id": "bb1ff2ba",
   "metadata": {},
   "source": [
    "## Gender Distribution in application_data"
   ]
  },
  {
   "cell_type": "code",
   "execution_count": null,
   "id": "de21223a",
   "metadata": {},
   "outputs": [],
   "source": [
    "fig = plt.figure(figsize=(13,6))\n",
    "plt.subplot(121)\n",
    "data[data[\"type\"] == \"application_data\"][\"CODE_GENDER\"].value_counts().plot.pie(autopct = \"%1.0f%%\",colors = [\"red\",\"yellow\"],startangle = 60,\n",
    "                                                                        wedgeprops={\"linewidth\":2,\"edgecolor\":\"k\"},explode=[.05,0,0],shadow =True)\n",
    "plt.title(\"distribution of gender in application_data\")\n",
    "plt.show()"
   ]
  },
  {
   "cell_type": "markdown",
   "id": "a751d388",
   "metadata": {},
   "source": [
    "# Distribution of Contract type by gender"
   ]
  },
  {
   "cell_type": "code",
   "execution_count": null,
   "id": "efd9d5b7",
   "metadata": {},
   "outputs": [],
   "source": [
    "fig  = plt.figure(figsize=(13,6))\n",
    "plt.subplot(121)\n",
    "ax = sns.countplot(\"NAME_CONTRACT_TYPE\",hue=\"CODE_GENDER\",data=data[data[\"type\"] == \"application_data\"],palette=[\"r\",\"b\",\"g\"])\n",
    "ax.set_facecolor(\"lightgrey\")\n",
    "ax.set_title(\"Distribution of Contract type by gender -application_data\")\n",
    "\n",
    "\n",
    "plt.show()"
   ]
  },
  {
   "cell_type": "markdown",
   "id": "53d10e68",
   "metadata": {},
   "source": [
    "# Distribution of contract type ,gender ,own car ,own house with respect to Repayment status(Target variable)"
   ]
  },
  {
   "cell_type": "code",
   "execution_count": null,
   "id": "e04c3590",
   "metadata": {},
   "outputs": [],
   "source": [
    "default = application_data[application_data[\"TARGET\"]==1][[ 'NAME_CONTRACT_TYPE', 'CODE_GENDER','FLAG_OWN_CAR', 'FLAG_OWN_REALTY']]\n",
    "non_default = application_data[application_data[\"TARGET\"]==0][[ 'NAME_CONTRACT_TYPE', 'CODE_GENDER','FLAG_OWN_CAR', 'FLAG_OWN_REALTY']]\n",
    "\n",
    "d_cols = ['NAME_CONTRACT_TYPE', 'CODE_GENDER','FLAG_OWN_CAR', 'FLAG_OWN_REALTY']\n",
    "d_length = len(d_cols)\n",
    "\n",
    "fig = plt.figure(figsize=(16,4))\n",
    "for i,j in itertools.zip_longest(d_cols,range(d_length)):\n",
    "    plt.subplot(1,4,j+1)\n",
    "    default[i].value_counts().plot.pie(autopct = \"%1.0f%%\",colors = sns.color_palette(\"prism\"),startangle = 90,\n",
    "                                        wedgeprops={\"linewidth\":1,\"edgecolor\":\"white\"},shadow =True)\n",
    "    circ = plt.Circle((0,0),.7,color=\"white\")\n",
    "    plt.gca().add_artist(circ)\n",
    "    plt.ylabel(\"\")\n",
    "    plt.title(i+\"-Defaulter\")\n",
    "\n",
    "\n",
    "fig = plt.figure(figsize=(16,4))\n",
    "for i,j in itertools.zip_longest(d_cols,range(d_length)):\n",
    "    plt.subplot(1,4,j+1)\n",
    "    non_default[i].value_counts().plot.pie(autopct = \"%1.0f%%\",colors = sns.color_palette(\"prism\",3),startangle = 90,\n",
    "                                           wedgeprops={\"linewidth\":1,\"edgecolor\":\"white\"},shadow =True)\n",
    "    circ = plt.Circle((0,0),.7,color=\"white\")\n",
    "    plt.gca().add_artist(circ)\n",
    "    plt.ylabel(\"\")\n",
    "    plt.title(i+\"-Repayer\")"
   ]
  },
  {
   "cell_type": "code",
   "execution_count": null,
   "id": "91ba01ff",
   "metadata": {},
   "outputs": [],
   "source": [
    "cols = [ 'AMT_INCOME_TOTAL', 'AMT_CREDIT','AMT_ANNUITY', 'AMT_GOODS_PRICE']\n",
    "length = len(cols)\n",
    "cs = [\"r\",\"b\",\"g\",\"k\"]\n",
    "\n",
    "ax = plt.figure(figsize=(18,18))\n",
    "ax.set_facecolor(\"lightgrey\")\n",
    "for i,j,k in itertools.zip_longest(cols,range(length),cs):\n",
    "    plt.subplot(2,2,j+1)\n",
    "    sns.distplot(data[data[i].notnull()][i],color=k)\n",
    "    plt.axvline(data[i].mean(),label = \"mean\",linestyle=\"dashed\",color=\"k\")\n",
    "    plt.legend(loc=\"best\")\n",
    "    plt.title(i)\n",
    "    plt.subplots_adjust(hspace = .2)"
   ]
  },
  {
   "cell_type": "markdown",
   "id": "c216d39c",
   "metadata": {},
   "source": [
    "## Average Income,credit,annuity & goods_price by gender"
   ]
  },
  {
   "cell_type": "code",
   "execution_count": null,
   "id": "c0b124cc",
   "metadata": {},
   "outputs": [],
   "source": [
    "cols = [ 'AMT_INCOME_TOTAL', 'AMT_CREDIT','AMT_ANNUITY', 'AMT_GOODS_PRICE']\n",
    "\n",
    "df1 = data.groupby(\"CODE_GENDER\")[cols].mean().transpose().reset_index()\n",
    "\n",
    "df_f   = df1[[\"index\",\"F\"]]\n",
    "df_f   = df_f.rename(columns={'index':\"amt_type\", 'F':\"amount\"})\n",
    "df_f[\"gender\"] = \"FEMALE\"\n",
    "df_m   = df1[[\"index\",\"M\"]]\n",
    "df_m   = df_m.rename(columns={'index':\"amt_type\", 'M':\"amount\"})\n",
    "df_m[\"gender\"] = \"MALE\"\n",
    "df_xna = df1[[\"index\",\"XNA\"]]\n",
    "df_xna = df_xna.rename(columns={'index':\"amt_type\", 'XNA':\"amount\"})\n",
    "df_xna[\"gender\"] = \"XNA\"\n",
    "\n",
    "df_gen = pd.concat([df_m,df_f,df_xna],axis=0)\n",
    "\n",
    "plt.figure(figsize=(12,5))\n",
    "ax = sns.barplot(\"amt_type\",\"amount\",data=df_gen,hue=\"gender\",palette=\"Set1\")\n",
    "plt.title(\"Average Income,credit,annuity & goods_price by gender\")\n",
    "plt.show()"
   ]
  },
  {
   "cell_type": "markdown",
   "id": "aa838904",
   "metadata": {},
   "source": [
    "## Scatter plot between credit amount and annuity amount"
   ]
  },
  {
   "cell_type": "code",
   "execution_count": null,
   "id": "6258dfea",
   "metadata": {},
   "outputs": [],
   "source": [
    "fig = plt.figure(figsize=(10,8))\n",
    "plt.scatter(application_data[application_data[\"TARGET\"]==0]['AMT_ANNUITY'],application_data[application_data[\"TARGET\"]==0]['AMT_CREDIT'],s=35,\n",
    "            color=\"b\",alpha=.5,label=\"REPAYER\",linewidth=.5,edgecolor=\"k\")\n",
    "plt.scatter(application_data[application_data[\"TARGET\"]==1]['AMT_ANNUITY'],application_data[application_data[\"TARGET\"]==1]['AMT_CREDIT'],s=35,\n",
    "            color=\"r\",alpha=.2,label=\"DEFAULTER\",linewidth=.5,edgecolor=\"k\")\n",
    "plt.legend(loc=\"best\",prop={\"size\":15})\n",
    "plt.xlabel(\"AMT_ANNUITY\")\n",
    "plt.ylabel(\"AMT_CREDIT\")\n",
    "plt.title(\"Scatter plot between credit amount and annuity amount\")\n",
    "plt.show()"
   ]
  },
  {
   "cell_type": "code",
   "execution_count": null,
   "id": "0a663bb9",
   "metadata": {},
   "outputs": [],
   "source": [
    "amt = application_data[[ 'AMT_INCOME_TOTAL','AMT_CREDIT',\n",
    "                         'AMT_ANNUITY', 'AMT_GOODS_PRICE',\"TARGET\"]]\n",
    "amt = amt[(amt[\"AMT_GOODS_PRICE\"].notnull()) & (amt[\"AMT_ANNUITY\"].notnull())]\n",
    "sns.pairplot(amt,hue=\"TARGET\",palette=[\"b\",\"r\"])\n",
    "plt.show()"
   ]
  },
  {
   "cell_type": "markdown",
   "id": "634e2333",
   "metadata": {},
   "source": [
    "## Corelation between variables"
   ]
  },
  {
   "cell_type": "markdown",
   "id": "0aab1675",
   "metadata": {},
   "source": [
    "### Application Data"
   ]
  },
  {
   "cell_type": "code",
   "execution_count": null,
   "id": "730e518b",
   "metadata": {},
   "outputs": [],
   "source": [
    "corrmat = application_data.corr() \n",
    "  \n",
    "f, ax = plt.subplots(figsize =(8, 8)) \n",
    "sns.heatmap(corrmat, ax = ax, cmap =\"rainbow\") \n",
    "plt.show()"
   ]
  },
  {
   "cell_type": "markdown",
   "id": "a9f384dc",
   "metadata": {},
   "source": [
    "### Previous Application"
   ]
  },
  {
   "cell_type": "code",
   "execution_count": null,
   "id": "d18c092e",
   "metadata": {},
   "outputs": [],
   "source": [
    "corrmat = previous_application.corr() \n",
    "  \n",
    "f, ax = plt.subplots(figsize =(8, 8)) \n",
    "sns.heatmap(corrmat, ax = ax, cmap =\"rainbow\") \n",
    "plt.show()"
   ]
  },
  {
   "cell_type": "code",
   "execution_count": null,
   "id": "500ed863",
   "metadata": {},
   "outputs": [],
   "source": [
    "corrmat = previous_application.corr() \n",
    "corrdf = corrmat.where(np.triu(np.ones(corrmat.shape), k=1).astype(np.bool))\n",
    "corrdf = corrdf.unstack().reset_index()\n",
    "corrdf.columns = ['Var1', 'Var2', 'Correlation']\n",
    "corrdf.dropna(subset = ['Correlation'], inplace = True)\n",
    "corrdf['Correlation'] = round(corrdf['Correlation'], 2)\n",
    "corrdf['Correlation'] = abs(corrdf['Correlation'])\n",
    "corrdf.sort_values(by = 'Correlation', ascending = False).head(10)"
   ]
  },
  {
   "cell_type": "markdown",
   "id": "3e4db050",
   "metadata": {},
   "source": [
    "### Top 10 Correlation Fields for Repayer"
   ]
  },
  {
   "cell_type": "code",
   "execution_count": null,
   "id": "9d30efbe",
   "metadata": {},
   "outputs": [],
   "source": [
    "df_repayer = application_data[application_data['TARGET'] == 0]\n",
    "df_defaulter = application_data[application_data['TARGET'] == 1]"
   ]
  },
  {
   "cell_type": "code",
   "execution_count": null,
   "id": "b9e76c73",
   "metadata": {},
   "outputs": [],
   "source": [
    "corrmat = df_repayer.corr() \n",
    "corrdf = corrmat.where(np.triu(np.ones(corrmat.shape), k=1).astype(np.bool))\n",
    "corrdf = corrdf.unstack().reset_index()\n",
    "corrdf.columns = ['Var1', 'Var2', 'Correlation']\n",
    "corrdf.dropna(subset = ['Correlation'], inplace = True)\n",
    "corrdf['Correlation'] = round(corrdf['Correlation'], 2)\n",
    "corrdf['Correlation'] = abs(corrdf['Correlation'])\n",
    "corrdf.sort_values(by = 'Correlation', ascending = False).head(10)"
   ]
  },
  {
   "cell_type": "markdown",
   "id": "dfe6a7cd",
   "metadata": {},
   "source": [
    "### Top 10 Correlation Fields for Defaulter"
   ]
  },
  {
   "cell_type": "code",
   "execution_count": null,
   "id": "e470614e",
   "metadata": {},
   "outputs": [],
   "source": [
    "corrmat = df_defaulter.corr() \n",
    "corrdf = corrmat.where(np.triu(np.ones(corrmat.shape), k=1).astype(np.bool))\n",
    "corrdf = corrdf.unstack().reset_index()\n",
    "corrdf.columns = ['Var1', 'Var2', 'Correlation']\n",
    "corrdf.dropna(subset = ['Correlation'], inplace = True)\n",
    "corrdf['Correlation'] = round(corrdf['Correlation'], 2)\n",
    "corrdf['Correlation'] = abs(corrdf['Correlation'])\n",
    "corrdf.sort_values(by = 'Correlation', ascending = False).head(10)"
   ]
  },
  {
   "cell_type": "code",
   "execution_count": null,
   "id": "9a5d2079",
   "metadata": {},
   "outputs": [],
   "source": [
    "mergeddf =  pd.merge(application_data,previous_application,on='SK_ID_CURR')\n",
    "mergeddf.head()"
   ]
  },
  {
   "cell_type": "code",
   "execution_count": null,
   "id": "9c94e6df",
   "metadata": {},
   "outputs": [],
   "source": [
    "y = mergeddf.groupby('SK_ID_CURR').size()\n",
    "dfA = mergeddf.groupby('SK_ID_CURR').agg({'TARGET': np.sum})\n",
    "dfA['count'] = y\n",
    "display(dfA.head(10))"
   ]
  },
  {
   "cell_type": "code",
   "execution_count": null,
   "id": "cb2502c2",
   "metadata": {},
   "outputs": [],
   "source": [
    "dfA.sort_values(by = 'count',ascending=False).head(10)"
   ]
  },
  {
   "cell_type": "code",
   "execution_count": null,
   "id": "86d8feb5",
   "metadata": {},
   "outputs": [],
   "source": [
    "df_repayer = dfA[dfA['TARGET'] == 0]\n",
    "df_defaulter = dfA[dfA['TARGET'] == 1]"
   ]
  },
  {
   "cell_type": "markdown",
   "id": "27f408aa",
   "metadata": {},
   "source": [
    "### Repayers' Borrowing History"
   ]
  },
  {
   "cell_type": "code",
   "execution_count": null,
   "id": "6c61b8e5",
   "metadata": {},
   "outputs": [],
   "source": [
    "df_repayer.sort_values(by = 'count',ascending=False).head(10)"
   ]
  },
  {
   "cell_type": "markdown",
   "id": "4d902ed5",
   "metadata": {},
   "source": [
    "### Defaulters' Borrowing History"
   ]
  },
  {
   "cell_type": "code",
   "execution_count": null,
   "id": "9bc80e89",
   "metadata": {},
   "outputs": [],
   "source": [
    "df_defaulter.sort_values(by = 'count',ascending=False).head(10)"
   ]
  }
 ],
 "metadata": {
  "kernelspec": {
   "display_name": "Python 3 (ipykernel)",
   "language": "python",
   "name": "python3"
  },
  "language_info": {
   "codemirror_mode": {
    "name": "ipython",
    "version": 3
   },
   "file_extension": ".py",
   "mimetype": "text/x-python",
   "name": "python",
   "nbconvert_exporter": "python",
   "pygments_lexer": "ipython3",
   "version": "3.9.12"
  }
 },
 "nbformat": 4,
 "nbformat_minor": 5
}
